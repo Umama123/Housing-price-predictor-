{
  "nbformat": 4,
  "nbformat_minor": 0,
  "metadata": {
    "colab": {
      "provenance": [],
      "gpuType": "T4",
      "mount_file_id": "1vcR25GFWCUKf4njm2QS2QPistw4ZubyX",
      "authorship_tag": "ABX9TyNr8uWWLzDZ1h3HqC+Pj4IQ",
      "include_colab_link": true
    },
    "kernelspec": {
      "name": "python3",
      "display_name": "Python 3"
    },
    "language_info": {
      "name": "python"
    },
    "accelerator": "GPU",
    "widgets": {
      "application/vnd.jupyter.widget-state+json": {
        "88e30e0fb2c74d53aba6d05d3f73c009": {
          "model_module": "@jupyter-widgets/controls",
          "model_name": "VBoxModel",
          "model_module_version": "1.5.0",
          "state": {
            "_dom_classes": [],
            "_model_module": "@jupyter-widgets/controls",
            "_model_module_version": "1.5.0",
            "_model_name": "VBoxModel",
            "_view_count": null,
            "_view_module": "@jupyter-widgets/controls",
            "_view_module_version": "1.5.0",
            "_view_name": "VBoxView",
            "box_style": "",
            "children": [],
            "layout": "IPY_MODEL_3da5009238c54be999a53207b575c5d4"
          }
        },
        "f5329e411544424a8d8f191397cfb57a": {
          "model_module": "@jupyter-widgets/controls",
          "model_name": "HTMLModel",
          "model_module_version": "1.5.0",
          "state": {
            "_dom_classes": [],
            "_model_module": "@jupyter-widgets/controls",
            "_model_module_version": "1.5.0",
            "_model_name": "HTMLModel",
            "_view_count": null,
            "_view_module": "@jupyter-widgets/controls",
            "_view_module_version": "1.5.0",
            "_view_name": "HTMLView",
            "description": "",
            "description_tooltip": null,
            "layout": "IPY_MODEL_f8608f6c2b05478c9c9f153b22521788",
            "placeholder": "​",
            "style": "IPY_MODEL_1eb819b4174f47749df4fc52330acaeb",
            "value": "<center> <img\nsrc=https://huggingface.co/front/assets/huggingface_logo-noborder.svg\nalt='Hugging Face'> <br> Copy a token from <a\nhref=\"https://huggingface.co/settings/tokens\" target=\"_blank\">your Hugging Face\ntokens page</a> and paste it below. <br> Immediately click login after copying\nyour token or it might be stored in plain text in this notebook file. </center>"
          }
        },
        "2fd55365b40243a5a4eae020ab56df9b": {
          "model_module": "@jupyter-widgets/controls",
          "model_name": "PasswordModel",
          "model_module_version": "1.5.0",
          "state": {
            "_dom_classes": [],
            "_model_module": "@jupyter-widgets/controls",
            "_model_module_version": "1.5.0",
            "_model_name": "PasswordModel",
            "_view_count": null,
            "_view_module": "@jupyter-widgets/controls",
            "_view_module_version": "1.5.0",
            "_view_name": "PasswordView",
            "continuous_update": true,
            "description": "Token:",
            "description_tooltip": null,
            "disabled": false,
            "layout": "IPY_MODEL_e409a65a438c42ec86bdb68252b7beb4",
            "placeholder": "​",
            "style": "IPY_MODEL_dffb73c6faa649829d9e6ce576976ba4",
            "value": ""
          }
        },
        "7e4c6946c4554246a1abff1cfa87fa84": {
          "model_module": "@jupyter-widgets/controls",
          "model_name": "CheckboxModel",
          "model_module_version": "1.5.0",
          "state": {
            "_dom_classes": [],
            "_model_module": "@jupyter-widgets/controls",
            "_model_module_version": "1.5.0",
            "_model_name": "CheckboxModel",
            "_view_count": null,
            "_view_module": "@jupyter-widgets/controls",
            "_view_module_version": "1.5.0",
            "_view_name": "CheckboxView",
            "description": "Add token as git credential?",
            "description_tooltip": null,
            "disabled": false,
            "indent": true,
            "layout": "IPY_MODEL_a86a03104b2841b391d1886c6c74691e",
            "style": "IPY_MODEL_a57c9d17e71846e8ac622fc31c5a5512",
            "value": true
          }
        },
        "68b30829653346c283c2b1f547e8b3b7": {
          "model_module": "@jupyter-widgets/controls",
          "model_name": "ButtonModel",
          "model_module_version": "1.5.0",
          "state": {
            "_dom_classes": [],
            "_model_module": "@jupyter-widgets/controls",
            "_model_module_version": "1.5.0",
            "_model_name": "ButtonModel",
            "_view_count": null,
            "_view_module": "@jupyter-widgets/controls",
            "_view_module_version": "1.5.0",
            "_view_name": "ButtonView",
            "button_style": "",
            "description": "Login",
            "disabled": false,
            "icon": "",
            "layout": "IPY_MODEL_3af8fc631edb4f39a6bf4d704aafc2db",
            "style": "IPY_MODEL_9ea8e68c30f04911831cf5b53b87c984",
            "tooltip": ""
          }
        },
        "07801236fbba47a18c6e535d4e7addc1": {
          "model_module": "@jupyter-widgets/controls",
          "model_name": "HTMLModel",
          "model_module_version": "1.5.0",
          "state": {
            "_dom_classes": [],
            "_model_module": "@jupyter-widgets/controls",
            "_model_module_version": "1.5.0",
            "_model_name": "HTMLModel",
            "_view_count": null,
            "_view_module": "@jupyter-widgets/controls",
            "_view_module_version": "1.5.0",
            "_view_name": "HTMLView",
            "description": "",
            "description_tooltip": null,
            "layout": "IPY_MODEL_15fed64c41a14aaeb5b8585681a62e90",
            "placeholder": "​",
            "style": "IPY_MODEL_86aa4475e446437e90cfd5969a0633b2",
            "value": "\n<b>Pro Tip:</b> If you don't already have one, you can create a dedicated\n'notebooks' token with 'write' access, that you can then easily reuse for all\nnotebooks. </center>"
          }
        },
        "3da5009238c54be999a53207b575c5d4": {
          "model_module": "@jupyter-widgets/base",
          "model_name": "LayoutModel",
          "model_module_version": "1.2.0",
          "state": {
            "_model_module": "@jupyter-widgets/base",
            "_model_module_version": "1.2.0",
            "_model_name": "LayoutModel",
            "_view_count": null,
            "_view_module": "@jupyter-widgets/base",
            "_view_module_version": "1.2.0",
            "_view_name": "LayoutView",
            "align_content": null,
            "align_items": "center",
            "align_self": null,
            "border": null,
            "bottom": null,
            "display": "flex",
            "flex": null,
            "flex_flow": "column",
            "grid_area": null,
            "grid_auto_columns": null,
            "grid_auto_flow": null,
            "grid_auto_rows": null,
            "grid_column": null,
            "grid_gap": null,
            "grid_row": null,
            "grid_template_areas": null,
            "grid_template_columns": null,
            "grid_template_rows": null,
            "height": null,
            "justify_content": null,
            "justify_items": null,
            "left": null,
            "margin": null,
            "max_height": null,
            "max_width": null,
            "min_height": null,
            "min_width": null,
            "object_fit": null,
            "object_position": null,
            "order": null,
            "overflow": null,
            "overflow_x": null,
            "overflow_y": null,
            "padding": null,
            "right": null,
            "top": null,
            "visibility": null,
            "width": "50%"
          }
        },
        "f8608f6c2b05478c9c9f153b22521788": {
          "model_module": "@jupyter-widgets/base",
          "model_name": "LayoutModel",
          "model_module_version": "1.2.0",
          "state": {
            "_model_module": "@jupyter-widgets/base",
            "_model_module_version": "1.2.0",
            "_model_name": "LayoutModel",
            "_view_count": null,
            "_view_module": "@jupyter-widgets/base",
            "_view_module_version": "1.2.0",
            "_view_name": "LayoutView",
            "align_content": null,
            "align_items": null,
            "align_self": null,
            "border": null,
            "bottom": null,
            "display": null,
            "flex": null,
            "flex_flow": null,
            "grid_area": null,
            "grid_auto_columns": null,
            "grid_auto_flow": null,
            "grid_auto_rows": null,
            "grid_column": null,
            "grid_gap": null,
            "grid_row": null,
            "grid_template_areas": null,
            "grid_template_columns": null,
            "grid_template_rows": null,
            "height": null,
            "justify_content": null,
            "justify_items": null,
            "left": null,
            "margin": null,
            "max_height": null,
            "max_width": null,
            "min_height": null,
            "min_width": null,
            "object_fit": null,
            "object_position": null,
            "order": null,
            "overflow": null,
            "overflow_x": null,
            "overflow_y": null,
            "padding": null,
            "right": null,
            "top": null,
            "visibility": null,
            "width": null
          }
        },
        "1eb819b4174f47749df4fc52330acaeb": {
          "model_module": "@jupyter-widgets/controls",
          "model_name": "DescriptionStyleModel",
          "model_module_version": "1.5.0",
          "state": {
            "_model_module": "@jupyter-widgets/controls",
            "_model_module_version": "1.5.0",
            "_model_name": "DescriptionStyleModel",
            "_view_count": null,
            "_view_module": "@jupyter-widgets/base",
            "_view_module_version": "1.2.0",
            "_view_name": "StyleView",
            "description_width": ""
          }
        },
        "e409a65a438c42ec86bdb68252b7beb4": {
          "model_module": "@jupyter-widgets/base",
          "model_name": "LayoutModel",
          "model_module_version": "1.2.0",
          "state": {
            "_model_module": "@jupyter-widgets/base",
            "_model_module_version": "1.2.0",
            "_model_name": "LayoutModel",
            "_view_count": null,
            "_view_module": "@jupyter-widgets/base",
            "_view_module_version": "1.2.0",
            "_view_name": "LayoutView",
            "align_content": null,
            "align_items": null,
            "align_self": null,
            "border": null,
            "bottom": null,
            "display": null,
            "flex": null,
            "flex_flow": null,
            "grid_area": null,
            "grid_auto_columns": null,
            "grid_auto_flow": null,
            "grid_auto_rows": null,
            "grid_column": null,
            "grid_gap": null,
            "grid_row": null,
            "grid_template_areas": null,
            "grid_template_columns": null,
            "grid_template_rows": null,
            "height": null,
            "justify_content": null,
            "justify_items": null,
            "left": null,
            "margin": null,
            "max_height": null,
            "max_width": null,
            "min_height": null,
            "min_width": null,
            "object_fit": null,
            "object_position": null,
            "order": null,
            "overflow": null,
            "overflow_x": null,
            "overflow_y": null,
            "padding": null,
            "right": null,
            "top": null,
            "visibility": null,
            "width": null
          }
        },
        "dffb73c6faa649829d9e6ce576976ba4": {
          "model_module": "@jupyter-widgets/controls",
          "model_name": "DescriptionStyleModel",
          "model_module_version": "1.5.0",
          "state": {
            "_model_module": "@jupyter-widgets/controls",
            "_model_module_version": "1.5.0",
            "_model_name": "DescriptionStyleModel",
            "_view_count": null,
            "_view_module": "@jupyter-widgets/base",
            "_view_module_version": "1.2.0",
            "_view_name": "StyleView",
            "description_width": ""
          }
        },
        "a86a03104b2841b391d1886c6c74691e": {
          "model_module": "@jupyter-widgets/base",
          "model_name": "LayoutModel",
          "model_module_version": "1.2.0",
          "state": {
            "_model_module": "@jupyter-widgets/base",
            "_model_module_version": "1.2.0",
            "_model_name": "LayoutModel",
            "_view_count": null,
            "_view_module": "@jupyter-widgets/base",
            "_view_module_version": "1.2.0",
            "_view_name": "LayoutView",
            "align_content": null,
            "align_items": null,
            "align_self": null,
            "border": null,
            "bottom": null,
            "display": null,
            "flex": null,
            "flex_flow": null,
            "grid_area": null,
            "grid_auto_columns": null,
            "grid_auto_flow": null,
            "grid_auto_rows": null,
            "grid_column": null,
            "grid_gap": null,
            "grid_row": null,
            "grid_template_areas": null,
            "grid_template_columns": null,
            "grid_template_rows": null,
            "height": null,
            "justify_content": null,
            "justify_items": null,
            "left": null,
            "margin": null,
            "max_height": null,
            "max_width": null,
            "min_height": null,
            "min_width": null,
            "object_fit": null,
            "object_position": null,
            "order": null,
            "overflow": null,
            "overflow_x": null,
            "overflow_y": null,
            "padding": null,
            "right": null,
            "top": null,
            "visibility": null,
            "width": null
          }
        },
        "a57c9d17e71846e8ac622fc31c5a5512": {
          "model_module": "@jupyter-widgets/controls",
          "model_name": "DescriptionStyleModel",
          "model_module_version": "1.5.0",
          "state": {
            "_model_module": "@jupyter-widgets/controls",
            "_model_module_version": "1.5.0",
            "_model_name": "DescriptionStyleModel",
            "_view_count": null,
            "_view_module": "@jupyter-widgets/base",
            "_view_module_version": "1.2.0",
            "_view_name": "StyleView",
            "description_width": ""
          }
        },
        "3af8fc631edb4f39a6bf4d704aafc2db": {
          "model_module": "@jupyter-widgets/base",
          "model_name": "LayoutModel",
          "model_module_version": "1.2.0",
          "state": {
            "_model_module": "@jupyter-widgets/base",
            "_model_module_version": "1.2.0",
            "_model_name": "LayoutModel",
            "_view_count": null,
            "_view_module": "@jupyter-widgets/base",
            "_view_module_version": "1.2.0",
            "_view_name": "LayoutView",
            "align_content": null,
            "align_items": null,
            "align_self": null,
            "border": null,
            "bottom": null,
            "display": null,
            "flex": null,
            "flex_flow": null,
            "grid_area": null,
            "grid_auto_columns": null,
            "grid_auto_flow": null,
            "grid_auto_rows": null,
            "grid_column": null,
            "grid_gap": null,
            "grid_row": null,
            "grid_template_areas": null,
            "grid_template_columns": null,
            "grid_template_rows": null,
            "height": null,
            "justify_content": null,
            "justify_items": null,
            "left": null,
            "margin": null,
            "max_height": null,
            "max_width": null,
            "min_height": null,
            "min_width": null,
            "object_fit": null,
            "object_position": null,
            "order": null,
            "overflow": null,
            "overflow_x": null,
            "overflow_y": null,
            "padding": null,
            "right": null,
            "top": null,
            "visibility": null,
            "width": null
          }
        },
        "9ea8e68c30f04911831cf5b53b87c984": {
          "model_module": "@jupyter-widgets/controls",
          "model_name": "ButtonStyleModel",
          "model_module_version": "1.5.0",
          "state": {
            "_model_module": "@jupyter-widgets/controls",
            "_model_module_version": "1.5.0",
            "_model_name": "ButtonStyleModel",
            "_view_count": null,
            "_view_module": "@jupyter-widgets/base",
            "_view_module_version": "1.2.0",
            "_view_name": "StyleView",
            "button_color": null,
            "font_weight": ""
          }
        },
        "15fed64c41a14aaeb5b8585681a62e90": {
          "model_module": "@jupyter-widgets/base",
          "model_name": "LayoutModel",
          "model_module_version": "1.2.0",
          "state": {
            "_model_module": "@jupyter-widgets/base",
            "_model_module_version": "1.2.0",
            "_model_name": "LayoutModel",
            "_view_count": null,
            "_view_module": "@jupyter-widgets/base",
            "_view_module_version": "1.2.0",
            "_view_name": "LayoutView",
            "align_content": null,
            "align_items": null,
            "align_self": null,
            "border": null,
            "bottom": null,
            "display": null,
            "flex": null,
            "flex_flow": null,
            "grid_area": null,
            "grid_auto_columns": null,
            "grid_auto_flow": null,
            "grid_auto_rows": null,
            "grid_column": null,
            "grid_gap": null,
            "grid_row": null,
            "grid_template_areas": null,
            "grid_template_columns": null,
            "grid_template_rows": null,
            "height": null,
            "justify_content": null,
            "justify_items": null,
            "left": null,
            "margin": null,
            "max_height": null,
            "max_width": null,
            "min_height": null,
            "min_width": null,
            "object_fit": null,
            "object_position": null,
            "order": null,
            "overflow": null,
            "overflow_x": null,
            "overflow_y": null,
            "padding": null,
            "right": null,
            "top": null,
            "visibility": null,
            "width": null
          }
        },
        "86aa4475e446437e90cfd5969a0633b2": {
          "model_module": "@jupyter-widgets/controls",
          "model_name": "DescriptionStyleModel",
          "model_module_version": "1.5.0",
          "state": {
            "_model_module": "@jupyter-widgets/controls",
            "_model_module_version": "1.5.0",
            "_model_name": "DescriptionStyleModel",
            "_view_count": null,
            "_view_module": "@jupyter-widgets/base",
            "_view_module_version": "1.2.0",
            "_view_name": "StyleView",
            "description_width": ""
          }
        },
        "1b5dd64dbf3c45aca03eb5bd6f1d06de": {
          "model_module": "@jupyter-widgets/controls",
          "model_name": "LabelModel",
          "model_module_version": "1.5.0",
          "state": {
            "_dom_classes": [],
            "_model_module": "@jupyter-widgets/controls",
            "_model_module_version": "1.5.0",
            "_model_name": "LabelModel",
            "_view_count": null,
            "_view_module": "@jupyter-widgets/controls",
            "_view_module_version": "1.5.0",
            "_view_name": "LabelView",
            "description": "",
            "description_tooltip": null,
            "layout": "IPY_MODEL_fe8285469e4d4f7bb2f5f9f9eb44bcc7",
            "placeholder": "​",
            "style": "IPY_MODEL_1a477e4aa9f64d82b0ac44ff68bcf10c",
            "value": "Connecting..."
          }
        },
        "fe8285469e4d4f7bb2f5f9f9eb44bcc7": {
          "model_module": "@jupyter-widgets/base",
          "model_name": "LayoutModel",
          "model_module_version": "1.2.0",
          "state": {
            "_model_module": "@jupyter-widgets/base",
            "_model_module_version": "1.2.0",
            "_model_name": "LayoutModel",
            "_view_count": null,
            "_view_module": "@jupyter-widgets/base",
            "_view_module_version": "1.2.0",
            "_view_name": "LayoutView",
            "align_content": null,
            "align_items": null,
            "align_self": null,
            "border": null,
            "bottom": null,
            "display": null,
            "flex": null,
            "flex_flow": null,
            "grid_area": null,
            "grid_auto_columns": null,
            "grid_auto_flow": null,
            "grid_auto_rows": null,
            "grid_column": null,
            "grid_gap": null,
            "grid_row": null,
            "grid_template_areas": null,
            "grid_template_columns": null,
            "grid_template_rows": null,
            "height": null,
            "justify_content": null,
            "justify_items": null,
            "left": null,
            "margin": null,
            "max_height": null,
            "max_width": null,
            "min_height": null,
            "min_width": null,
            "object_fit": null,
            "object_position": null,
            "order": null,
            "overflow": null,
            "overflow_x": null,
            "overflow_y": null,
            "padding": null,
            "right": null,
            "top": null,
            "visibility": null,
            "width": null
          }
        },
        "1a477e4aa9f64d82b0ac44ff68bcf10c": {
          "model_module": "@jupyter-widgets/controls",
          "model_name": "DescriptionStyleModel",
          "model_module_version": "1.5.0",
          "state": {
            "_model_module": "@jupyter-widgets/controls",
            "_model_module_version": "1.5.0",
            "_model_name": "DescriptionStyleModel",
            "_view_count": null,
            "_view_module": "@jupyter-widgets/base",
            "_view_module_version": "1.2.0",
            "_view_name": "StyleView",
            "description_width": ""
          }
        },
        "afcb3b0b825e471e9547ffd19688261e": {
          "model_module": "@jupyter-widgets/controls",
          "model_name": "HBoxModel",
          "model_module_version": "1.5.0",
          "state": {
            "_dom_classes": [],
            "_model_module": "@jupyter-widgets/controls",
            "_model_module_version": "1.5.0",
            "_model_name": "HBoxModel",
            "_view_count": null,
            "_view_module": "@jupyter-widgets/controls",
            "_view_module_version": "1.5.0",
            "_view_name": "HBoxView",
            "box_style": "",
            "children": [
              "IPY_MODEL_339ea961abb547968653ceaff48058ef",
              "IPY_MODEL_2dd5aad51d9240f9b12a7f44b412c313",
              "IPY_MODEL_c96e9f57a2284681be2f37430b628f85"
            ],
            "layout": "IPY_MODEL_a664d379d87c417590eaa320aa84120b"
          }
        },
        "339ea961abb547968653ceaff48058ef": {
          "model_module": "@jupyter-widgets/controls",
          "model_name": "HTMLModel",
          "model_module_version": "1.5.0",
          "state": {
            "_dom_classes": [],
            "_model_module": "@jupyter-widgets/controls",
            "_model_module_version": "1.5.0",
            "_model_name": "HTMLModel",
            "_view_count": null,
            "_view_module": "@jupyter-widgets/controls",
            "_view_module_version": "1.5.0",
            "_view_name": "HTMLView",
            "description": "",
            "description_tooltip": null,
            "layout": "IPY_MODEL_3f7484fcc5924664a3e96b13648e4b31",
            "placeholder": "​",
            "style": "IPY_MODEL_d85d8f0d1b304691ba322942495d4317",
            "value": "ridge_model.pkl: 100%"
          }
        },
        "2dd5aad51d9240f9b12a7f44b412c313": {
          "model_module": "@jupyter-widgets/controls",
          "model_name": "FloatProgressModel",
          "model_module_version": "1.5.0",
          "state": {
            "_dom_classes": [],
            "_model_module": "@jupyter-widgets/controls",
            "_model_module_version": "1.5.0",
            "_model_name": "FloatProgressModel",
            "_view_count": null,
            "_view_module": "@jupyter-widgets/controls",
            "_view_module_version": "1.5.0",
            "_view_name": "ProgressView",
            "bar_style": "success",
            "description": "",
            "description_tooltip": null,
            "layout": "IPY_MODEL_d8f621598de0410b95ed685f8cf9c0c0",
            "max": 1053,
            "min": 0,
            "orientation": "horizontal",
            "style": "IPY_MODEL_e08f91f90789451ea7a32c01b929e322",
            "value": 1053
          }
        },
        "c96e9f57a2284681be2f37430b628f85": {
          "model_module": "@jupyter-widgets/controls",
          "model_name": "HTMLModel",
          "model_module_version": "1.5.0",
          "state": {
            "_dom_classes": [],
            "_model_module": "@jupyter-widgets/controls",
            "_model_module_version": "1.5.0",
            "_model_name": "HTMLModel",
            "_view_count": null,
            "_view_module": "@jupyter-widgets/controls",
            "_view_module_version": "1.5.0",
            "_view_name": "HTMLView",
            "description": "",
            "description_tooltip": null,
            "layout": "IPY_MODEL_656a82bef0cb42b483658a1275c20a00",
            "placeholder": "​",
            "style": "IPY_MODEL_ec0530b4f0c54e55a8922536af09587f",
            "value": " 1.05k/1.05k [00:00&lt;00:00, 51.9kB/s]"
          }
        },
        "a664d379d87c417590eaa320aa84120b": {
          "model_module": "@jupyter-widgets/base",
          "model_name": "LayoutModel",
          "model_module_version": "1.2.0",
          "state": {
            "_model_module": "@jupyter-widgets/base",
            "_model_module_version": "1.2.0",
            "_model_name": "LayoutModel",
            "_view_count": null,
            "_view_module": "@jupyter-widgets/base",
            "_view_module_version": "1.2.0",
            "_view_name": "LayoutView",
            "align_content": null,
            "align_items": null,
            "align_self": null,
            "border": null,
            "bottom": null,
            "display": null,
            "flex": null,
            "flex_flow": null,
            "grid_area": null,
            "grid_auto_columns": null,
            "grid_auto_flow": null,
            "grid_auto_rows": null,
            "grid_column": null,
            "grid_gap": null,
            "grid_row": null,
            "grid_template_areas": null,
            "grid_template_columns": null,
            "grid_template_rows": null,
            "height": null,
            "justify_content": null,
            "justify_items": null,
            "left": null,
            "margin": null,
            "max_height": null,
            "max_width": null,
            "min_height": null,
            "min_width": null,
            "object_fit": null,
            "object_position": null,
            "order": null,
            "overflow": null,
            "overflow_x": null,
            "overflow_y": null,
            "padding": null,
            "right": null,
            "top": null,
            "visibility": null,
            "width": null
          }
        },
        "3f7484fcc5924664a3e96b13648e4b31": {
          "model_module": "@jupyter-widgets/base",
          "model_name": "LayoutModel",
          "model_module_version": "1.2.0",
          "state": {
            "_model_module": "@jupyter-widgets/base",
            "_model_module_version": "1.2.0",
            "_model_name": "LayoutModel",
            "_view_count": null,
            "_view_module": "@jupyter-widgets/base",
            "_view_module_version": "1.2.0",
            "_view_name": "LayoutView",
            "align_content": null,
            "align_items": null,
            "align_self": null,
            "border": null,
            "bottom": null,
            "display": null,
            "flex": null,
            "flex_flow": null,
            "grid_area": null,
            "grid_auto_columns": null,
            "grid_auto_flow": null,
            "grid_auto_rows": null,
            "grid_column": null,
            "grid_gap": null,
            "grid_row": null,
            "grid_template_areas": null,
            "grid_template_columns": null,
            "grid_template_rows": null,
            "height": null,
            "justify_content": null,
            "justify_items": null,
            "left": null,
            "margin": null,
            "max_height": null,
            "max_width": null,
            "min_height": null,
            "min_width": null,
            "object_fit": null,
            "object_position": null,
            "order": null,
            "overflow": null,
            "overflow_x": null,
            "overflow_y": null,
            "padding": null,
            "right": null,
            "top": null,
            "visibility": null,
            "width": null
          }
        },
        "d85d8f0d1b304691ba322942495d4317": {
          "model_module": "@jupyter-widgets/controls",
          "model_name": "DescriptionStyleModel",
          "model_module_version": "1.5.0",
          "state": {
            "_model_module": "@jupyter-widgets/controls",
            "_model_module_version": "1.5.0",
            "_model_name": "DescriptionStyleModel",
            "_view_count": null,
            "_view_module": "@jupyter-widgets/base",
            "_view_module_version": "1.2.0",
            "_view_name": "StyleView",
            "description_width": ""
          }
        },
        "d8f621598de0410b95ed685f8cf9c0c0": {
          "model_module": "@jupyter-widgets/base",
          "model_name": "LayoutModel",
          "model_module_version": "1.2.0",
          "state": {
            "_model_module": "@jupyter-widgets/base",
            "_model_module_version": "1.2.0",
            "_model_name": "LayoutModel",
            "_view_count": null,
            "_view_module": "@jupyter-widgets/base",
            "_view_module_version": "1.2.0",
            "_view_name": "LayoutView",
            "align_content": null,
            "align_items": null,
            "align_self": null,
            "border": null,
            "bottom": null,
            "display": null,
            "flex": null,
            "flex_flow": null,
            "grid_area": null,
            "grid_auto_columns": null,
            "grid_auto_flow": null,
            "grid_auto_rows": null,
            "grid_column": null,
            "grid_gap": null,
            "grid_row": null,
            "grid_template_areas": null,
            "grid_template_columns": null,
            "grid_template_rows": null,
            "height": null,
            "justify_content": null,
            "justify_items": null,
            "left": null,
            "margin": null,
            "max_height": null,
            "max_width": null,
            "min_height": null,
            "min_width": null,
            "object_fit": null,
            "object_position": null,
            "order": null,
            "overflow": null,
            "overflow_x": null,
            "overflow_y": null,
            "padding": null,
            "right": null,
            "top": null,
            "visibility": null,
            "width": null
          }
        },
        "e08f91f90789451ea7a32c01b929e322": {
          "model_module": "@jupyter-widgets/controls",
          "model_name": "ProgressStyleModel",
          "model_module_version": "1.5.0",
          "state": {
            "_model_module": "@jupyter-widgets/controls",
            "_model_module_version": "1.5.0",
            "_model_name": "ProgressStyleModel",
            "_view_count": null,
            "_view_module": "@jupyter-widgets/base",
            "_view_module_version": "1.2.0",
            "_view_name": "StyleView",
            "bar_color": null,
            "description_width": ""
          }
        },
        "656a82bef0cb42b483658a1275c20a00": {
          "model_module": "@jupyter-widgets/base",
          "model_name": "LayoutModel",
          "model_module_version": "1.2.0",
          "state": {
            "_model_module": "@jupyter-widgets/base",
            "_model_module_version": "1.2.0",
            "_model_name": "LayoutModel",
            "_view_count": null,
            "_view_module": "@jupyter-widgets/base",
            "_view_module_version": "1.2.0",
            "_view_name": "LayoutView",
            "align_content": null,
            "align_items": null,
            "align_self": null,
            "border": null,
            "bottom": null,
            "display": null,
            "flex": null,
            "flex_flow": null,
            "grid_area": null,
            "grid_auto_columns": null,
            "grid_auto_flow": null,
            "grid_auto_rows": null,
            "grid_column": null,
            "grid_gap": null,
            "grid_row": null,
            "grid_template_areas": null,
            "grid_template_columns": null,
            "grid_template_rows": null,
            "height": null,
            "justify_content": null,
            "justify_items": null,
            "left": null,
            "margin": null,
            "max_height": null,
            "max_width": null,
            "min_height": null,
            "min_width": null,
            "object_fit": null,
            "object_position": null,
            "order": null,
            "overflow": null,
            "overflow_x": null,
            "overflow_y": null,
            "padding": null,
            "right": null,
            "top": null,
            "visibility": null,
            "width": null
          }
        },
        "ec0530b4f0c54e55a8922536af09587f": {
          "model_module": "@jupyter-widgets/controls",
          "model_name": "DescriptionStyleModel",
          "model_module_version": "1.5.0",
          "state": {
            "_model_module": "@jupyter-widgets/controls",
            "_model_module_version": "1.5.0",
            "_model_name": "DescriptionStyleModel",
            "_view_count": null,
            "_view_module": "@jupyter-widgets/base",
            "_view_module_version": "1.2.0",
            "_view_name": "StyleView",
            "description_width": ""
          }
        },
        "60406a0276e24bc5ac64382175a95b64": {
          "model_module": "@jupyter-widgets/controls",
          "model_name": "HBoxModel",
          "model_module_version": "1.5.0",
          "state": {
            "_dom_classes": [],
            "_model_module": "@jupyter-widgets/controls",
            "_model_module_version": "1.5.0",
            "_model_name": "HBoxModel",
            "_view_count": null,
            "_view_module": "@jupyter-widgets/controls",
            "_view_module_version": "1.5.0",
            "_view_name": "HBoxView",
            "box_style": "",
            "children": [
              "IPY_MODEL_fa88b57e772c4264a8a5dd30784bc98c",
              "IPY_MODEL_8fa3e48489604acdb841e954f35b0e9d",
              "IPY_MODEL_001ff630e0b04ad7b864b96c5ef99f1d"
            ],
            "layout": "IPY_MODEL_6c6fdddb2cf44c9b865f71168cbd0f5b"
          }
        },
        "fa88b57e772c4264a8a5dd30784bc98c": {
          "model_module": "@jupyter-widgets/controls",
          "model_name": "HTMLModel",
          "model_module_version": "1.5.0",
          "state": {
            "_dom_classes": [],
            "_model_module": "@jupyter-widgets/controls",
            "_model_module_version": "1.5.0",
            "_model_name": "HTMLModel",
            "_view_count": null,
            "_view_module": "@jupyter-widgets/controls",
            "_view_module_version": "1.5.0",
            "_view_name": "HTMLView",
            "description": "",
            "description_tooltip": null,
            "layout": "IPY_MODEL_2d4c555e8f7944dea47f14f5382201a1",
            "placeholder": "​",
            "style": "IPY_MODEL_0a8475d9721445d5a40ea4405723d663",
            "value": "poly_transformer.pkl: 100%"
          }
        },
        "8fa3e48489604acdb841e954f35b0e9d": {
          "model_module": "@jupyter-widgets/controls",
          "model_name": "FloatProgressModel",
          "model_module_version": "1.5.0",
          "state": {
            "_dom_classes": [],
            "_model_module": "@jupyter-widgets/controls",
            "_model_module_version": "1.5.0",
            "_model_name": "FloatProgressModel",
            "_view_count": null,
            "_view_module": "@jupyter-widgets/controls",
            "_view_module_version": "1.5.0",
            "_view_name": "ProgressView",
            "bar_style": "success",
            "description": "",
            "description_tooltip": null,
            "layout": "IPY_MODEL_16be2170ad5f46e78e3db61a9a90d9a4",
            "max": 255,
            "min": 0,
            "orientation": "horizontal",
            "style": "IPY_MODEL_3986398a84c34a66af9e5aee96e08647",
            "value": 255
          }
        },
        "001ff630e0b04ad7b864b96c5ef99f1d": {
          "model_module": "@jupyter-widgets/controls",
          "model_name": "HTMLModel",
          "model_module_version": "1.5.0",
          "state": {
            "_dom_classes": [],
            "_model_module": "@jupyter-widgets/controls",
            "_model_module_version": "1.5.0",
            "_model_name": "HTMLModel",
            "_view_count": null,
            "_view_module": "@jupyter-widgets/controls",
            "_view_module_version": "1.5.0",
            "_view_name": "HTMLView",
            "description": "",
            "description_tooltip": null,
            "layout": "IPY_MODEL_e0cf5d0082254bca87edb514995c4ffe",
            "placeholder": "​",
            "style": "IPY_MODEL_1e30e5441ff54c0c9b52e63efb484d04",
            "value": " 255/255 [00:00&lt;00:00, 17.2kB/s]"
          }
        },
        "6c6fdddb2cf44c9b865f71168cbd0f5b": {
          "model_module": "@jupyter-widgets/base",
          "model_name": "LayoutModel",
          "model_module_version": "1.2.0",
          "state": {
            "_model_module": "@jupyter-widgets/base",
            "_model_module_version": "1.2.0",
            "_model_name": "LayoutModel",
            "_view_count": null,
            "_view_module": "@jupyter-widgets/base",
            "_view_module_version": "1.2.0",
            "_view_name": "LayoutView",
            "align_content": null,
            "align_items": null,
            "align_self": null,
            "border": null,
            "bottom": null,
            "display": null,
            "flex": null,
            "flex_flow": null,
            "grid_area": null,
            "grid_auto_columns": null,
            "grid_auto_flow": null,
            "grid_auto_rows": null,
            "grid_column": null,
            "grid_gap": null,
            "grid_row": null,
            "grid_template_areas": null,
            "grid_template_columns": null,
            "grid_template_rows": null,
            "height": null,
            "justify_content": null,
            "justify_items": null,
            "left": null,
            "margin": null,
            "max_height": null,
            "max_width": null,
            "min_height": null,
            "min_width": null,
            "object_fit": null,
            "object_position": null,
            "order": null,
            "overflow": null,
            "overflow_x": null,
            "overflow_y": null,
            "padding": null,
            "right": null,
            "top": null,
            "visibility": null,
            "width": null
          }
        },
        "2d4c555e8f7944dea47f14f5382201a1": {
          "model_module": "@jupyter-widgets/base",
          "model_name": "LayoutModel",
          "model_module_version": "1.2.0",
          "state": {
            "_model_module": "@jupyter-widgets/base",
            "_model_module_version": "1.2.0",
            "_model_name": "LayoutModel",
            "_view_count": null,
            "_view_module": "@jupyter-widgets/base",
            "_view_module_version": "1.2.0",
            "_view_name": "LayoutView",
            "align_content": null,
            "align_items": null,
            "align_self": null,
            "border": null,
            "bottom": null,
            "display": null,
            "flex": null,
            "flex_flow": null,
            "grid_area": null,
            "grid_auto_columns": null,
            "grid_auto_flow": null,
            "grid_auto_rows": null,
            "grid_column": null,
            "grid_gap": null,
            "grid_row": null,
            "grid_template_areas": null,
            "grid_template_columns": null,
            "grid_template_rows": null,
            "height": null,
            "justify_content": null,
            "justify_items": null,
            "left": null,
            "margin": null,
            "max_height": null,
            "max_width": null,
            "min_height": null,
            "min_width": null,
            "object_fit": null,
            "object_position": null,
            "order": null,
            "overflow": null,
            "overflow_x": null,
            "overflow_y": null,
            "padding": null,
            "right": null,
            "top": null,
            "visibility": null,
            "width": null
          }
        },
        "0a8475d9721445d5a40ea4405723d663": {
          "model_module": "@jupyter-widgets/controls",
          "model_name": "DescriptionStyleModel",
          "model_module_version": "1.5.0",
          "state": {
            "_model_module": "@jupyter-widgets/controls",
            "_model_module_version": "1.5.0",
            "_model_name": "DescriptionStyleModel",
            "_view_count": null,
            "_view_module": "@jupyter-widgets/base",
            "_view_module_version": "1.2.0",
            "_view_name": "StyleView",
            "description_width": ""
          }
        },
        "16be2170ad5f46e78e3db61a9a90d9a4": {
          "model_module": "@jupyter-widgets/base",
          "model_name": "LayoutModel",
          "model_module_version": "1.2.0",
          "state": {
            "_model_module": "@jupyter-widgets/base",
            "_model_module_version": "1.2.0",
            "_model_name": "LayoutModel",
            "_view_count": null,
            "_view_module": "@jupyter-widgets/base",
            "_view_module_version": "1.2.0",
            "_view_name": "LayoutView",
            "align_content": null,
            "align_items": null,
            "align_self": null,
            "border": null,
            "bottom": null,
            "display": null,
            "flex": null,
            "flex_flow": null,
            "grid_area": null,
            "grid_auto_columns": null,
            "grid_auto_flow": null,
            "grid_auto_rows": null,
            "grid_column": null,
            "grid_gap": null,
            "grid_row": null,
            "grid_template_areas": null,
            "grid_template_columns": null,
            "grid_template_rows": null,
            "height": null,
            "justify_content": null,
            "justify_items": null,
            "left": null,
            "margin": null,
            "max_height": null,
            "max_width": null,
            "min_height": null,
            "min_width": null,
            "object_fit": null,
            "object_position": null,
            "order": null,
            "overflow": null,
            "overflow_x": null,
            "overflow_y": null,
            "padding": null,
            "right": null,
            "top": null,
            "visibility": null,
            "width": null
          }
        },
        "3986398a84c34a66af9e5aee96e08647": {
          "model_module": "@jupyter-widgets/controls",
          "model_name": "ProgressStyleModel",
          "model_module_version": "1.5.0",
          "state": {
            "_model_module": "@jupyter-widgets/controls",
            "_model_module_version": "1.5.0",
            "_model_name": "ProgressStyleModel",
            "_view_count": null,
            "_view_module": "@jupyter-widgets/base",
            "_view_module_version": "1.2.0",
            "_view_name": "StyleView",
            "bar_color": null,
            "description_width": ""
          }
        },
        "e0cf5d0082254bca87edb514995c4ffe": {
          "model_module": "@jupyter-widgets/base",
          "model_name": "LayoutModel",
          "model_module_version": "1.2.0",
          "state": {
            "_model_module": "@jupyter-widgets/base",
            "_model_module_version": "1.2.0",
            "_model_name": "LayoutModel",
            "_view_count": null,
            "_view_module": "@jupyter-widgets/base",
            "_view_module_version": "1.2.0",
            "_view_name": "LayoutView",
            "align_content": null,
            "align_items": null,
            "align_self": null,
            "border": null,
            "bottom": null,
            "display": null,
            "flex": null,
            "flex_flow": null,
            "grid_area": null,
            "grid_auto_columns": null,
            "grid_auto_flow": null,
            "grid_auto_rows": null,
            "grid_column": null,
            "grid_gap": null,
            "grid_row": null,
            "grid_template_areas": null,
            "grid_template_columns": null,
            "grid_template_rows": null,
            "height": null,
            "justify_content": null,
            "justify_items": null,
            "left": null,
            "margin": null,
            "max_height": null,
            "max_width": null,
            "min_height": null,
            "min_width": null,
            "object_fit": null,
            "object_position": null,
            "order": null,
            "overflow": null,
            "overflow_x": null,
            "overflow_y": null,
            "padding": null,
            "right": null,
            "top": null,
            "visibility": null,
            "width": null
          }
        },
        "1e30e5441ff54c0c9b52e63efb484d04": {
          "model_module": "@jupyter-widgets/controls",
          "model_name": "DescriptionStyleModel",
          "model_module_version": "1.5.0",
          "state": {
            "_model_module": "@jupyter-widgets/controls",
            "_model_module_version": "1.5.0",
            "_model_name": "DescriptionStyleModel",
            "_view_count": null,
            "_view_module": "@jupyter-widgets/base",
            "_view_module_version": "1.2.0",
            "_view_name": "StyleView",
            "description_width": ""
          }
        },
        "51a45e34f7c349c2a4d16badab9dd3fe": {
          "model_module": "@jupyter-widgets/controls",
          "model_name": "HBoxModel",
          "model_module_version": "1.5.0",
          "state": {
            "_dom_classes": [],
            "_model_module": "@jupyter-widgets/controls",
            "_model_module_version": "1.5.0",
            "_model_name": "HBoxModel",
            "_view_count": null,
            "_view_module": "@jupyter-widgets/controls",
            "_view_module_version": "1.5.0",
            "_view_name": "HBoxView",
            "box_style": "",
            "children": [
              "IPY_MODEL_3d5203a3f7ed4d5eb68f87e922e6e72d",
              "IPY_MODEL_75a8ecd6077447f28db2d8a4f5de34c9",
              "IPY_MODEL_14e5e56fb9e54619b6cdc37b55a6e005"
            ],
            "layout": "IPY_MODEL_12a20a0407cb4aefaea90deee132d4ae"
          }
        },
        "3d5203a3f7ed4d5eb68f87e922e6e72d": {
          "model_module": "@jupyter-widgets/controls",
          "model_name": "HTMLModel",
          "model_module_version": "1.5.0",
          "state": {
            "_dom_classes": [],
            "_model_module": "@jupyter-widgets/controls",
            "_model_module_version": "1.5.0",
            "_model_name": "HTMLModel",
            "_view_count": null,
            "_view_module": "@jupyter-widgets/controls",
            "_view_module_version": "1.5.0",
            "_view_name": "HTMLView",
            "description": "",
            "description_tooltip": null,
            "layout": "IPY_MODEL_e2d5fe47b07d4c6a8cec7d2e7b277904",
            "placeholder": "​",
            "style": "IPY_MODEL_6bb4e23d12b54f9089e1f0e708ca9afd",
            "value": "scaler_X.pkl: 100%"
          }
        },
        "75a8ecd6077447f28db2d8a4f5de34c9": {
          "model_module": "@jupyter-widgets/controls",
          "model_name": "FloatProgressModel",
          "model_module_version": "1.5.0",
          "state": {
            "_dom_classes": [],
            "_model_module": "@jupyter-widgets/controls",
            "_model_module_version": "1.5.0",
            "_model_name": "FloatProgressModel",
            "_view_count": null,
            "_view_module": "@jupyter-widgets/controls",
            "_view_module_version": "1.5.0",
            "_view_name": "ProgressView",
            "bar_style": "success",
            "description": "",
            "description_tooltip": null,
            "layout": "IPY_MODEL_1682478dc19348bb9bcbb183809ad471",
            "max": 1515,
            "min": 0,
            "orientation": "horizontal",
            "style": "IPY_MODEL_1d5bc1ac03844f5989a29d6377cca3f0",
            "value": 1515
          }
        },
        "14e5e56fb9e54619b6cdc37b55a6e005": {
          "model_module": "@jupyter-widgets/controls",
          "model_name": "HTMLModel",
          "model_module_version": "1.5.0",
          "state": {
            "_dom_classes": [],
            "_model_module": "@jupyter-widgets/controls",
            "_model_module_version": "1.5.0",
            "_model_name": "HTMLModel",
            "_view_count": null,
            "_view_module": "@jupyter-widgets/controls",
            "_view_module_version": "1.5.0",
            "_view_name": "HTMLView",
            "description": "",
            "description_tooltip": null,
            "layout": "IPY_MODEL_8c2fbb17388b492fa66e7be0b9ae7711",
            "placeholder": "​",
            "style": "IPY_MODEL_1186d708b8d84a6fae3b010ba6a59613",
            "value": " 1.51k/1.51k [00:00&lt;00:00, 79.3kB/s]"
          }
        },
        "12a20a0407cb4aefaea90deee132d4ae": {
          "model_module": "@jupyter-widgets/base",
          "model_name": "LayoutModel",
          "model_module_version": "1.2.0",
          "state": {
            "_model_module": "@jupyter-widgets/base",
            "_model_module_version": "1.2.0",
            "_model_name": "LayoutModel",
            "_view_count": null,
            "_view_module": "@jupyter-widgets/base",
            "_view_module_version": "1.2.0",
            "_view_name": "LayoutView",
            "align_content": null,
            "align_items": null,
            "align_self": null,
            "border": null,
            "bottom": null,
            "display": null,
            "flex": null,
            "flex_flow": null,
            "grid_area": null,
            "grid_auto_columns": null,
            "grid_auto_flow": null,
            "grid_auto_rows": null,
            "grid_column": null,
            "grid_gap": null,
            "grid_row": null,
            "grid_template_areas": null,
            "grid_template_columns": null,
            "grid_template_rows": null,
            "height": null,
            "justify_content": null,
            "justify_items": null,
            "left": null,
            "margin": null,
            "max_height": null,
            "max_width": null,
            "min_height": null,
            "min_width": null,
            "object_fit": null,
            "object_position": null,
            "order": null,
            "overflow": null,
            "overflow_x": null,
            "overflow_y": null,
            "padding": null,
            "right": null,
            "top": null,
            "visibility": null,
            "width": null
          }
        },
        "e2d5fe47b07d4c6a8cec7d2e7b277904": {
          "model_module": "@jupyter-widgets/base",
          "model_name": "LayoutModel",
          "model_module_version": "1.2.0",
          "state": {
            "_model_module": "@jupyter-widgets/base",
            "_model_module_version": "1.2.0",
            "_model_name": "LayoutModel",
            "_view_count": null,
            "_view_module": "@jupyter-widgets/base",
            "_view_module_version": "1.2.0",
            "_view_name": "LayoutView",
            "align_content": null,
            "align_items": null,
            "align_self": null,
            "border": null,
            "bottom": null,
            "display": null,
            "flex": null,
            "flex_flow": null,
            "grid_area": null,
            "grid_auto_columns": null,
            "grid_auto_flow": null,
            "grid_auto_rows": null,
            "grid_column": null,
            "grid_gap": null,
            "grid_row": null,
            "grid_template_areas": null,
            "grid_template_columns": null,
            "grid_template_rows": null,
            "height": null,
            "justify_content": null,
            "justify_items": null,
            "left": null,
            "margin": null,
            "max_height": null,
            "max_width": null,
            "min_height": null,
            "min_width": null,
            "object_fit": null,
            "object_position": null,
            "order": null,
            "overflow": null,
            "overflow_x": null,
            "overflow_y": null,
            "padding": null,
            "right": null,
            "top": null,
            "visibility": null,
            "width": null
          }
        },
        "6bb4e23d12b54f9089e1f0e708ca9afd": {
          "model_module": "@jupyter-widgets/controls",
          "model_name": "DescriptionStyleModel",
          "model_module_version": "1.5.0",
          "state": {
            "_model_module": "@jupyter-widgets/controls",
            "_model_module_version": "1.5.0",
            "_model_name": "DescriptionStyleModel",
            "_view_count": null,
            "_view_module": "@jupyter-widgets/base",
            "_view_module_version": "1.2.0",
            "_view_name": "StyleView",
            "description_width": ""
          }
        },
        "1682478dc19348bb9bcbb183809ad471": {
          "model_module": "@jupyter-widgets/base",
          "model_name": "LayoutModel",
          "model_module_version": "1.2.0",
          "state": {
            "_model_module": "@jupyter-widgets/base",
            "_model_module_version": "1.2.0",
            "_model_name": "LayoutModel",
            "_view_count": null,
            "_view_module": "@jupyter-widgets/base",
            "_view_module_version": "1.2.0",
            "_view_name": "LayoutView",
            "align_content": null,
            "align_items": null,
            "align_self": null,
            "border": null,
            "bottom": null,
            "display": null,
            "flex": null,
            "flex_flow": null,
            "grid_area": null,
            "grid_auto_columns": null,
            "grid_auto_flow": null,
            "grid_auto_rows": null,
            "grid_column": null,
            "grid_gap": null,
            "grid_row": null,
            "grid_template_areas": null,
            "grid_template_columns": null,
            "grid_template_rows": null,
            "height": null,
            "justify_content": null,
            "justify_items": null,
            "left": null,
            "margin": null,
            "max_height": null,
            "max_width": null,
            "min_height": null,
            "min_width": null,
            "object_fit": null,
            "object_position": null,
            "order": null,
            "overflow": null,
            "overflow_x": null,
            "overflow_y": null,
            "padding": null,
            "right": null,
            "top": null,
            "visibility": null,
            "width": null
          }
        },
        "1d5bc1ac03844f5989a29d6377cca3f0": {
          "model_module": "@jupyter-widgets/controls",
          "model_name": "ProgressStyleModel",
          "model_module_version": "1.5.0",
          "state": {
            "_model_module": "@jupyter-widgets/controls",
            "_model_module_version": "1.5.0",
            "_model_name": "ProgressStyleModel",
            "_view_count": null,
            "_view_module": "@jupyter-widgets/base",
            "_view_module_version": "1.2.0",
            "_view_name": "StyleView",
            "bar_color": null,
            "description_width": ""
          }
        },
        "8c2fbb17388b492fa66e7be0b9ae7711": {
          "model_module": "@jupyter-widgets/base",
          "model_name": "LayoutModel",
          "model_module_version": "1.2.0",
          "state": {
            "_model_module": "@jupyter-widgets/base",
            "_model_module_version": "1.2.0",
            "_model_name": "LayoutModel",
            "_view_count": null,
            "_view_module": "@jupyter-widgets/base",
            "_view_module_version": "1.2.0",
            "_view_name": "LayoutView",
            "align_content": null,
            "align_items": null,
            "align_self": null,
            "border": null,
            "bottom": null,
            "display": null,
            "flex": null,
            "flex_flow": null,
            "grid_area": null,
            "grid_auto_columns": null,
            "grid_auto_flow": null,
            "grid_auto_rows": null,
            "grid_column": null,
            "grid_gap": null,
            "grid_row": null,
            "grid_template_areas": null,
            "grid_template_columns": null,
            "grid_template_rows": null,
            "height": null,
            "justify_content": null,
            "justify_items": null,
            "left": null,
            "margin": null,
            "max_height": null,
            "max_width": null,
            "min_height": null,
            "min_width": null,
            "object_fit": null,
            "object_position": null,
            "order": null,
            "overflow": null,
            "overflow_x": null,
            "overflow_y": null,
            "padding": null,
            "right": null,
            "top": null,
            "visibility": null,
            "width": null
          }
        },
        "1186d708b8d84a6fae3b010ba6a59613": {
          "model_module": "@jupyter-widgets/controls",
          "model_name": "DescriptionStyleModel",
          "model_module_version": "1.5.0",
          "state": {
            "_model_module": "@jupyter-widgets/controls",
            "_model_module_version": "1.5.0",
            "_model_name": "DescriptionStyleModel",
            "_view_count": null,
            "_view_module": "@jupyter-widgets/base",
            "_view_module_version": "1.2.0",
            "_view_name": "StyleView",
            "description_width": ""
          }
        },
        "2619dd710a154f6c8e3a556b4a6e7ef3": {
          "model_module": "@jupyter-widgets/controls",
          "model_name": "HBoxModel",
          "model_module_version": "1.5.0",
          "state": {
            "_dom_classes": [],
            "_model_module": "@jupyter-widgets/controls",
            "_model_module_version": "1.5.0",
            "_model_name": "HBoxModel",
            "_view_count": null,
            "_view_module": "@jupyter-widgets/controls",
            "_view_module_version": "1.5.0",
            "_view_name": "HBoxView",
            "box_style": "",
            "children": [
              "IPY_MODEL_eee599a33b0d463697877f4bec3e85fe",
              "IPY_MODEL_178a49d29e7942f889550907834b5ae7",
              "IPY_MODEL_4b32e27a083f4e8d9f754e57051532e5"
            ],
            "layout": "IPY_MODEL_10145ef72215421db0f46b24ef3689da"
          }
        },
        "eee599a33b0d463697877f4bec3e85fe": {
          "model_module": "@jupyter-widgets/controls",
          "model_name": "HTMLModel",
          "model_module_version": "1.5.0",
          "state": {
            "_dom_classes": [],
            "_model_module": "@jupyter-widgets/controls",
            "_model_module_version": "1.5.0",
            "_model_name": "HTMLModel",
            "_view_count": null,
            "_view_module": "@jupyter-widgets/controls",
            "_view_module_version": "1.5.0",
            "_view_name": "HTMLView",
            "description": "",
            "description_tooltip": null,
            "layout": "IPY_MODEL_6797313216e24e4b80a6394ee7863b94",
            "placeholder": "​",
            "style": "IPY_MODEL_0e7977c1020644aba67156faa54a56d8",
            "value": "scaler_y.pkl: 100%"
          }
        },
        "178a49d29e7942f889550907834b5ae7": {
          "model_module": "@jupyter-widgets/controls",
          "model_name": "FloatProgressModel",
          "model_module_version": "1.5.0",
          "state": {
            "_dom_classes": [],
            "_model_module": "@jupyter-widgets/controls",
            "_model_module_version": "1.5.0",
            "_model_name": "FloatProgressModel",
            "_view_count": null,
            "_view_module": "@jupyter-widgets/controls",
            "_view_module_version": "1.5.0",
            "_view_name": "ProgressView",
            "bar_style": "success",
            "description": "",
            "description_tooltip": null,
            "layout": "IPY_MODEL_e79d3a42577248cf914a40b8be70e589",
            "max": 474,
            "min": 0,
            "orientation": "horizontal",
            "style": "IPY_MODEL_a49c0d2b1bea48d58061cdff482b1f76",
            "value": 474
          }
        },
        "4b32e27a083f4e8d9f754e57051532e5": {
          "model_module": "@jupyter-widgets/controls",
          "model_name": "HTMLModel",
          "model_module_version": "1.5.0",
          "state": {
            "_dom_classes": [],
            "_model_module": "@jupyter-widgets/controls",
            "_model_module_version": "1.5.0",
            "_model_name": "HTMLModel",
            "_view_count": null,
            "_view_module": "@jupyter-widgets/controls",
            "_view_module_version": "1.5.0",
            "_view_name": "HTMLView",
            "description": "",
            "description_tooltip": null,
            "layout": "IPY_MODEL_cf6314d514894d4b98e0f31649d49b38",
            "placeholder": "​",
            "style": "IPY_MODEL_c6f7c536c5884362bc509744d0b5601b",
            "value": " 474/474 [00:00&lt;00:00, 28.6kB/s]"
          }
        },
        "10145ef72215421db0f46b24ef3689da": {
          "model_module": "@jupyter-widgets/base",
          "model_name": "LayoutModel",
          "model_module_version": "1.2.0",
          "state": {
            "_model_module": "@jupyter-widgets/base",
            "_model_module_version": "1.2.0",
            "_model_name": "LayoutModel",
            "_view_count": null,
            "_view_module": "@jupyter-widgets/base",
            "_view_module_version": "1.2.0",
            "_view_name": "LayoutView",
            "align_content": null,
            "align_items": null,
            "align_self": null,
            "border": null,
            "bottom": null,
            "display": null,
            "flex": null,
            "flex_flow": null,
            "grid_area": null,
            "grid_auto_columns": null,
            "grid_auto_flow": null,
            "grid_auto_rows": null,
            "grid_column": null,
            "grid_gap": null,
            "grid_row": null,
            "grid_template_areas": null,
            "grid_template_columns": null,
            "grid_template_rows": null,
            "height": null,
            "justify_content": null,
            "justify_items": null,
            "left": null,
            "margin": null,
            "max_height": null,
            "max_width": null,
            "min_height": null,
            "min_width": null,
            "object_fit": null,
            "object_position": null,
            "order": null,
            "overflow": null,
            "overflow_x": null,
            "overflow_y": null,
            "padding": null,
            "right": null,
            "top": null,
            "visibility": null,
            "width": null
          }
        },
        "6797313216e24e4b80a6394ee7863b94": {
          "model_module": "@jupyter-widgets/base",
          "model_name": "LayoutModel",
          "model_module_version": "1.2.0",
          "state": {
            "_model_module": "@jupyter-widgets/base",
            "_model_module_version": "1.2.0",
            "_model_name": "LayoutModel",
            "_view_count": null,
            "_view_module": "@jupyter-widgets/base",
            "_view_module_version": "1.2.0",
            "_view_name": "LayoutView",
            "align_content": null,
            "align_items": null,
            "align_self": null,
            "border": null,
            "bottom": null,
            "display": null,
            "flex": null,
            "flex_flow": null,
            "grid_area": null,
            "grid_auto_columns": null,
            "grid_auto_flow": null,
            "grid_auto_rows": null,
            "grid_column": null,
            "grid_gap": null,
            "grid_row": null,
            "grid_template_areas": null,
            "grid_template_columns": null,
            "grid_template_rows": null,
            "height": null,
            "justify_content": null,
            "justify_items": null,
            "left": null,
            "margin": null,
            "max_height": null,
            "max_width": null,
            "min_height": null,
            "min_width": null,
            "object_fit": null,
            "object_position": null,
            "order": null,
            "overflow": null,
            "overflow_x": null,
            "overflow_y": null,
            "padding": null,
            "right": null,
            "top": null,
            "visibility": null,
            "width": null
          }
        },
        "0e7977c1020644aba67156faa54a56d8": {
          "model_module": "@jupyter-widgets/controls",
          "model_name": "DescriptionStyleModel",
          "model_module_version": "1.5.0",
          "state": {
            "_model_module": "@jupyter-widgets/controls",
            "_model_module_version": "1.5.0",
            "_model_name": "DescriptionStyleModel",
            "_view_count": null,
            "_view_module": "@jupyter-widgets/base",
            "_view_module_version": "1.2.0",
            "_view_name": "StyleView",
            "description_width": ""
          }
        },
        "e79d3a42577248cf914a40b8be70e589": {
          "model_module": "@jupyter-widgets/base",
          "model_name": "LayoutModel",
          "model_module_version": "1.2.0",
          "state": {
            "_model_module": "@jupyter-widgets/base",
            "_model_module_version": "1.2.0",
            "_model_name": "LayoutModel",
            "_view_count": null,
            "_view_module": "@jupyter-widgets/base",
            "_view_module_version": "1.2.0",
            "_view_name": "LayoutView",
            "align_content": null,
            "align_items": null,
            "align_self": null,
            "border": null,
            "bottom": null,
            "display": null,
            "flex": null,
            "flex_flow": null,
            "grid_area": null,
            "grid_auto_columns": null,
            "grid_auto_flow": null,
            "grid_auto_rows": null,
            "grid_column": null,
            "grid_gap": null,
            "grid_row": null,
            "grid_template_areas": null,
            "grid_template_columns": null,
            "grid_template_rows": null,
            "height": null,
            "justify_content": null,
            "justify_items": null,
            "left": null,
            "margin": null,
            "max_height": null,
            "max_width": null,
            "min_height": null,
            "min_width": null,
            "object_fit": null,
            "object_position": null,
            "order": null,
            "overflow": null,
            "overflow_x": null,
            "overflow_y": null,
            "padding": null,
            "right": null,
            "top": null,
            "visibility": null,
            "width": null
          }
        },
        "a49c0d2b1bea48d58061cdff482b1f76": {
          "model_module": "@jupyter-widgets/controls",
          "model_name": "ProgressStyleModel",
          "model_module_version": "1.5.0",
          "state": {
            "_model_module": "@jupyter-widgets/controls",
            "_model_module_version": "1.5.0",
            "_model_name": "ProgressStyleModel",
            "_view_count": null,
            "_view_module": "@jupyter-widgets/base",
            "_view_module_version": "1.2.0",
            "_view_name": "StyleView",
            "bar_color": null,
            "description_width": ""
          }
        },
        "cf6314d514894d4b98e0f31649d49b38": {
          "model_module": "@jupyter-widgets/base",
          "model_name": "LayoutModel",
          "model_module_version": "1.2.0",
          "state": {
            "_model_module": "@jupyter-widgets/base",
            "_model_module_version": "1.2.0",
            "_model_name": "LayoutModel",
            "_view_count": null,
            "_view_module": "@jupyter-widgets/base",
            "_view_module_version": "1.2.0",
            "_view_name": "LayoutView",
            "align_content": null,
            "align_items": null,
            "align_self": null,
            "border": null,
            "bottom": null,
            "display": null,
            "flex": null,
            "flex_flow": null,
            "grid_area": null,
            "grid_auto_columns": null,
            "grid_auto_flow": null,
            "grid_auto_rows": null,
            "grid_column": null,
            "grid_gap": null,
            "grid_row": null,
            "grid_template_areas": null,
            "grid_template_columns": null,
            "grid_template_rows": null,
            "height": null,
            "justify_content": null,
            "justify_items": null,
            "left": null,
            "margin": null,
            "max_height": null,
            "max_width": null,
            "min_height": null,
            "min_width": null,
            "object_fit": null,
            "object_position": null,
            "order": null,
            "overflow": null,
            "overflow_x": null,
            "overflow_y": null,
            "padding": null,
            "right": null,
            "top": null,
            "visibility": null,
            "width": null
          }
        },
        "c6f7c536c5884362bc509744d0b5601b": {
          "model_module": "@jupyter-widgets/controls",
          "model_name": "DescriptionStyleModel",
          "model_module_version": "1.5.0",
          "state": {
            "_model_module": "@jupyter-widgets/controls",
            "_model_module_version": "1.5.0",
            "_model_name": "DescriptionStyleModel",
            "_view_count": null,
            "_view_module": "@jupyter-widgets/base",
            "_view_module_version": "1.2.0",
            "_view_name": "StyleView",
            "description_width": ""
          }
        },
        "ebb8fdd81e7049fbad80ae898551cece": {
          "model_module": "@jupyter-widgets/controls",
          "model_name": "HBoxModel",
          "model_module_version": "1.5.0",
          "state": {
            "_dom_classes": [],
            "_model_module": "@jupyter-widgets/controls",
            "_model_module_version": "1.5.0",
            "_model_name": "HBoxModel",
            "_view_count": null,
            "_view_module": "@jupyter-widgets/controls",
            "_view_module_version": "1.5.0",
            "_view_name": "HBoxView",
            "box_style": "",
            "children": [
              "IPY_MODEL_1e51d559fec443c0bb467122e27fdbe1",
              "IPY_MODEL_f4712bb6150442b69c759878d2b46fdf",
              "IPY_MODEL_2c423fa75a8d46aa8ef16faa495f57ae"
            ],
            "layout": "IPY_MODEL_762ea6f857504f1d9020393c5b188520"
          }
        },
        "1e51d559fec443c0bb467122e27fdbe1": {
          "model_module": "@jupyter-widgets/controls",
          "model_name": "HTMLModel",
          "model_module_version": "1.5.0",
          "state": {
            "_dom_classes": [],
            "_model_module": "@jupyter-widgets/controls",
            "_model_module_version": "1.5.0",
            "_model_name": "HTMLModel",
            "_view_count": null,
            "_view_module": "@jupyter-widgets/controls",
            "_view_module_version": "1.5.0",
            "_view_name": "HTMLView",
            "description": "",
            "description_tooltip": null,
            "layout": "IPY_MODEL_95b46337a8054cf0b63f018024b58c4b",
            "placeholder": "​",
            "style": "IPY_MODEL_226ace9acc65497ea0faaf31414f3b2b",
            "value": "ridge_model.pkl: 100%"
          }
        },
        "f4712bb6150442b69c759878d2b46fdf": {
          "model_module": "@jupyter-widgets/controls",
          "model_name": "FloatProgressModel",
          "model_module_version": "1.5.0",
          "state": {
            "_dom_classes": [],
            "_model_module": "@jupyter-widgets/controls",
            "_model_module_version": "1.5.0",
            "_model_name": "FloatProgressModel",
            "_view_count": null,
            "_view_module": "@jupyter-widgets/controls",
            "_view_module_version": "1.5.0",
            "_view_name": "ProgressView",
            "bar_style": "success",
            "description": "",
            "description_tooltip": null,
            "layout": "IPY_MODEL_1d2c975316e642c7ac5f6fa30a126b5b",
            "max": 1053,
            "min": 0,
            "orientation": "horizontal",
            "style": "IPY_MODEL_0ec095ea998849e0acade695c75ae7f5",
            "value": 1053
          }
        },
        "2c423fa75a8d46aa8ef16faa495f57ae": {
          "model_module": "@jupyter-widgets/controls",
          "model_name": "HTMLModel",
          "model_module_version": "1.5.0",
          "state": {
            "_dom_classes": [],
            "_model_module": "@jupyter-widgets/controls",
            "_model_module_version": "1.5.0",
            "_model_name": "HTMLModel",
            "_view_count": null,
            "_view_module": "@jupyter-widgets/controls",
            "_view_module_version": "1.5.0",
            "_view_name": "HTMLView",
            "description": "",
            "description_tooltip": null,
            "layout": "IPY_MODEL_216c364280e5495b82592c53242fa234",
            "placeholder": "​",
            "style": "IPY_MODEL_91e10907a6ac41c9b286cc49fe56e396",
            "value": " 1.05k/1.05k [00:00&lt;00:00, 86.8kB/s]"
          }
        },
        "762ea6f857504f1d9020393c5b188520": {
          "model_module": "@jupyter-widgets/base",
          "model_name": "LayoutModel",
          "model_module_version": "1.2.0",
          "state": {
            "_model_module": "@jupyter-widgets/base",
            "_model_module_version": "1.2.0",
            "_model_name": "LayoutModel",
            "_view_count": null,
            "_view_module": "@jupyter-widgets/base",
            "_view_module_version": "1.2.0",
            "_view_name": "LayoutView",
            "align_content": null,
            "align_items": null,
            "align_self": null,
            "border": null,
            "bottom": null,
            "display": null,
            "flex": null,
            "flex_flow": null,
            "grid_area": null,
            "grid_auto_columns": null,
            "grid_auto_flow": null,
            "grid_auto_rows": null,
            "grid_column": null,
            "grid_gap": null,
            "grid_row": null,
            "grid_template_areas": null,
            "grid_template_columns": null,
            "grid_template_rows": null,
            "height": null,
            "justify_content": null,
            "justify_items": null,
            "left": null,
            "margin": null,
            "max_height": null,
            "max_width": null,
            "min_height": null,
            "min_width": null,
            "object_fit": null,
            "object_position": null,
            "order": null,
            "overflow": null,
            "overflow_x": null,
            "overflow_y": null,
            "padding": null,
            "right": null,
            "top": null,
            "visibility": null,
            "width": null
          }
        },
        "95b46337a8054cf0b63f018024b58c4b": {
          "model_module": "@jupyter-widgets/base",
          "model_name": "LayoutModel",
          "model_module_version": "1.2.0",
          "state": {
            "_model_module": "@jupyter-widgets/base",
            "_model_module_version": "1.2.0",
            "_model_name": "LayoutModel",
            "_view_count": null,
            "_view_module": "@jupyter-widgets/base",
            "_view_module_version": "1.2.0",
            "_view_name": "LayoutView",
            "align_content": null,
            "align_items": null,
            "align_self": null,
            "border": null,
            "bottom": null,
            "display": null,
            "flex": null,
            "flex_flow": null,
            "grid_area": null,
            "grid_auto_columns": null,
            "grid_auto_flow": null,
            "grid_auto_rows": null,
            "grid_column": null,
            "grid_gap": null,
            "grid_row": null,
            "grid_template_areas": null,
            "grid_template_columns": null,
            "grid_template_rows": null,
            "height": null,
            "justify_content": null,
            "justify_items": null,
            "left": null,
            "margin": null,
            "max_height": null,
            "max_width": null,
            "min_height": null,
            "min_width": null,
            "object_fit": null,
            "object_position": null,
            "order": null,
            "overflow": null,
            "overflow_x": null,
            "overflow_y": null,
            "padding": null,
            "right": null,
            "top": null,
            "visibility": null,
            "width": null
          }
        },
        "226ace9acc65497ea0faaf31414f3b2b": {
          "model_module": "@jupyter-widgets/controls",
          "model_name": "DescriptionStyleModel",
          "model_module_version": "1.5.0",
          "state": {
            "_model_module": "@jupyter-widgets/controls",
            "_model_module_version": "1.5.0",
            "_model_name": "DescriptionStyleModel",
            "_view_count": null,
            "_view_module": "@jupyter-widgets/base",
            "_view_module_version": "1.2.0",
            "_view_name": "StyleView",
            "description_width": ""
          }
        },
        "1d2c975316e642c7ac5f6fa30a126b5b": {
          "model_module": "@jupyter-widgets/base",
          "model_name": "LayoutModel",
          "model_module_version": "1.2.0",
          "state": {
            "_model_module": "@jupyter-widgets/base",
            "_model_module_version": "1.2.0",
            "_model_name": "LayoutModel",
            "_view_count": null,
            "_view_module": "@jupyter-widgets/base",
            "_view_module_version": "1.2.0",
            "_view_name": "LayoutView",
            "align_content": null,
            "align_items": null,
            "align_self": null,
            "border": null,
            "bottom": null,
            "display": null,
            "flex": null,
            "flex_flow": null,
            "grid_area": null,
            "grid_auto_columns": null,
            "grid_auto_flow": null,
            "grid_auto_rows": null,
            "grid_column": null,
            "grid_gap": null,
            "grid_row": null,
            "grid_template_areas": null,
            "grid_template_columns": null,
            "grid_template_rows": null,
            "height": null,
            "justify_content": null,
            "justify_items": null,
            "left": null,
            "margin": null,
            "max_height": null,
            "max_width": null,
            "min_height": null,
            "min_width": null,
            "object_fit": null,
            "object_position": null,
            "order": null,
            "overflow": null,
            "overflow_x": null,
            "overflow_y": null,
            "padding": null,
            "right": null,
            "top": null,
            "visibility": null,
            "width": null
          }
        },
        "0ec095ea998849e0acade695c75ae7f5": {
          "model_module": "@jupyter-widgets/controls",
          "model_name": "ProgressStyleModel",
          "model_module_version": "1.5.0",
          "state": {
            "_model_module": "@jupyter-widgets/controls",
            "_model_module_version": "1.5.0",
            "_model_name": "ProgressStyleModel",
            "_view_count": null,
            "_view_module": "@jupyter-widgets/base",
            "_view_module_version": "1.2.0",
            "_view_name": "StyleView",
            "bar_color": null,
            "description_width": ""
          }
        },
        "216c364280e5495b82592c53242fa234": {
          "model_module": "@jupyter-widgets/base",
          "model_name": "LayoutModel",
          "model_module_version": "1.2.0",
          "state": {
            "_model_module": "@jupyter-widgets/base",
            "_model_module_version": "1.2.0",
            "_model_name": "LayoutModel",
            "_view_count": null,
            "_view_module": "@jupyter-widgets/base",
            "_view_module_version": "1.2.0",
            "_view_name": "LayoutView",
            "align_content": null,
            "align_items": null,
            "align_self": null,
            "border": null,
            "bottom": null,
            "display": null,
            "flex": null,
            "flex_flow": null,
            "grid_area": null,
            "grid_auto_columns": null,
            "grid_auto_flow": null,
            "grid_auto_rows": null,
            "grid_column": null,
            "grid_gap": null,
            "grid_row": null,
            "grid_template_areas": null,
            "grid_template_columns": null,
            "grid_template_rows": null,
            "height": null,
            "justify_content": null,
            "justify_items": null,
            "left": null,
            "margin": null,
            "max_height": null,
            "max_width": null,
            "min_height": null,
            "min_width": null,
            "object_fit": null,
            "object_position": null,
            "order": null,
            "overflow": null,
            "overflow_x": null,
            "overflow_y": null,
            "padding": null,
            "right": null,
            "top": null,
            "visibility": null,
            "width": null
          }
        },
        "91e10907a6ac41c9b286cc49fe56e396": {
          "model_module": "@jupyter-widgets/controls",
          "model_name": "DescriptionStyleModel",
          "model_module_version": "1.5.0",
          "state": {
            "_model_module": "@jupyter-widgets/controls",
            "_model_module_version": "1.5.0",
            "_model_name": "DescriptionStyleModel",
            "_view_count": null,
            "_view_module": "@jupyter-widgets/base",
            "_view_module_version": "1.2.0",
            "_view_name": "StyleView",
            "description_width": ""
          }
        },
        "df31fae6d0004c44871842be27432151": {
          "model_module": "@jupyter-widgets/controls",
          "model_name": "HBoxModel",
          "model_module_version": "1.5.0",
          "state": {
            "_dom_classes": [],
            "_model_module": "@jupyter-widgets/controls",
            "_model_module_version": "1.5.0",
            "_model_name": "HBoxModel",
            "_view_count": null,
            "_view_module": "@jupyter-widgets/controls",
            "_view_module_version": "1.5.0",
            "_view_name": "HBoxView",
            "box_style": "",
            "children": [
              "IPY_MODEL_3ced428413474857920f42f169e85645",
              "IPY_MODEL_4a61d10b37d74310812228f10fdb0789",
              "IPY_MODEL_b6fd0a760f9a46c9b735e33bff641f59"
            ],
            "layout": "IPY_MODEL_30f4a05eae0c4b74b8a06fddd55a595e"
          }
        },
        "3ced428413474857920f42f169e85645": {
          "model_module": "@jupyter-widgets/controls",
          "model_name": "HTMLModel",
          "model_module_version": "1.5.0",
          "state": {
            "_dom_classes": [],
            "_model_module": "@jupyter-widgets/controls",
            "_model_module_version": "1.5.0",
            "_model_name": "HTMLModel",
            "_view_count": null,
            "_view_module": "@jupyter-widgets/controls",
            "_view_module_version": "1.5.0",
            "_view_name": "HTMLView",
            "description": "",
            "description_tooltip": null,
            "layout": "IPY_MODEL_987bc03b1cf340fe87f726bc77797cc1",
            "placeholder": "​",
            "style": "IPY_MODEL_1d8c8890a7c04ab59798eeed6339ab27",
            "value": "scaler_X.pkl: 100%"
          }
        },
        "4a61d10b37d74310812228f10fdb0789": {
          "model_module": "@jupyter-widgets/controls",
          "model_name": "FloatProgressModel",
          "model_module_version": "1.5.0",
          "state": {
            "_dom_classes": [],
            "_model_module": "@jupyter-widgets/controls",
            "_model_module_version": "1.5.0",
            "_model_name": "FloatProgressModel",
            "_view_count": null,
            "_view_module": "@jupyter-widgets/controls",
            "_view_module_version": "1.5.0",
            "_view_name": "ProgressView",
            "bar_style": "success",
            "description": "",
            "description_tooltip": null,
            "layout": "IPY_MODEL_3d142ae3369c4d4a94a34d4794c5c7a9",
            "max": 1515,
            "min": 0,
            "orientation": "horizontal",
            "style": "IPY_MODEL_7e1b1cadf83d4a9d911771450e01b216",
            "value": 1515
          }
        },
        "b6fd0a760f9a46c9b735e33bff641f59": {
          "model_module": "@jupyter-widgets/controls",
          "model_name": "HTMLModel",
          "model_module_version": "1.5.0",
          "state": {
            "_dom_classes": [],
            "_model_module": "@jupyter-widgets/controls",
            "_model_module_version": "1.5.0",
            "_model_name": "HTMLModel",
            "_view_count": null,
            "_view_module": "@jupyter-widgets/controls",
            "_view_module_version": "1.5.0",
            "_view_name": "HTMLView",
            "description": "",
            "description_tooltip": null,
            "layout": "IPY_MODEL_c3c7f2b5510c479492d8f0be4378348b",
            "placeholder": "​",
            "style": "IPY_MODEL_30f51e16cd77491a9715d01857642e51",
            "value": " 1.51k/1.51k [00:00&lt;00:00, 68.4kB/s]"
          }
        },
        "30f4a05eae0c4b74b8a06fddd55a595e": {
          "model_module": "@jupyter-widgets/base",
          "model_name": "LayoutModel",
          "model_module_version": "1.2.0",
          "state": {
            "_model_module": "@jupyter-widgets/base",
            "_model_module_version": "1.2.0",
            "_model_name": "LayoutModel",
            "_view_count": null,
            "_view_module": "@jupyter-widgets/base",
            "_view_module_version": "1.2.0",
            "_view_name": "LayoutView",
            "align_content": null,
            "align_items": null,
            "align_self": null,
            "border": null,
            "bottom": null,
            "display": null,
            "flex": null,
            "flex_flow": null,
            "grid_area": null,
            "grid_auto_columns": null,
            "grid_auto_flow": null,
            "grid_auto_rows": null,
            "grid_column": null,
            "grid_gap": null,
            "grid_row": null,
            "grid_template_areas": null,
            "grid_template_columns": null,
            "grid_template_rows": null,
            "height": null,
            "justify_content": null,
            "justify_items": null,
            "left": null,
            "margin": null,
            "max_height": null,
            "max_width": null,
            "min_height": null,
            "min_width": null,
            "object_fit": null,
            "object_position": null,
            "order": null,
            "overflow": null,
            "overflow_x": null,
            "overflow_y": null,
            "padding": null,
            "right": null,
            "top": null,
            "visibility": null,
            "width": null
          }
        },
        "987bc03b1cf340fe87f726bc77797cc1": {
          "model_module": "@jupyter-widgets/base",
          "model_name": "LayoutModel",
          "model_module_version": "1.2.0",
          "state": {
            "_model_module": "@jupyter-widgets/base",
            "_model_module_version": "1.2.0",
            "_model_name": "LayoutModel",
            "_view_count": null,
            "_view_module": "@jupyter-widgets/base",
            "_view_module_version": "1.2.0",
            "_view_name": "LayoutView",
            "align_content": null,
            "align_items": null,
            "align_self": null,
            "border": null,
            "bottom": null,
            "display": null,
            "flex": null,
            "flex_flow": null,
            "grid_area": null,
            "grid_auto_columns": null,
            "grid_auto_flow": null,
            "grid_auto_rows": null,
            "grid_column": null,
            "grid_gap": null,
            "grid_row": null,
            "grid_template_areas": null,
            "grid_template_columns": null,
            "grid_template_rows": null,
            "height": null,
            "justify_content": null,
            "justify_items": null,
            "left": null,
            "margin": null,
            "max_height": null,
            "max_width": null,
            "min_height": null,
            "min_width": null,
            "object_fit": null,
            "object_position": null,
            "order": null,
            "overflow": null,
            "overflow_x": null,
            "overflow_y": null,
            "padding": null,
            "right": null,
            "top": null,
            "visibility": null,
            "width": null
          }
        },
        "1d8c8890a7c04ab59798eeed6339ab27": {
          "model_module": "@jupyter-widgets/controls",
          "model_name": "DescriptionStyleModel",
          "model_module_version": "1.5.0",
          "state": {
            "_model_module": "@jupyter-widgets/controls",
            "_model_module_version": "1.5.0",
            "_model_name": "DescriptionStyleModel",
            "_view_count": null,
            "_view_module": "@jupyter-widgets/base",
            "_view_module_version": "1.2.0",
            "_view_name": "StyleView",
            "description_width": ""
          }
        },
        "3d142ae3369c4d4a94a34d4794c5c7a9": {
          "model_module": "@jupyter-widgets/base",
          "model_name": "LayoutModel",
          "model_module_version": "1.2.0",
          "state": {
            "_model_module": "@jupyter-widgets/base",
            "_model_module_version": "1.2.0",
            "_model_name": "LayoutModel",
            "_view_count": null,
            "_view_module": "@jupyter-widgets/base",
            "_view_module_version": "1.2.0",
            "_view_name": "LayoutView",
            "align_content": null,
            "align_items": null,
            "align_self": null,
            "border": null,
            "bottom": null,
            "display": null,
            "flex": null,
            "flex_flow": null,
            "grid_area": null,
            "grid_auto_columns": null,
            "grid_auto_flow": null,
            "grid_auto_rows": null,
            "grid_column": null,
            "grid_gap": null,
            "grid_row": null,
            "grid_template_areas": null,
            "grid_template_columns": null,
            "grid_template_rows": null,
            "height": null,
            "justify_content": null,
            "justify_items": null,
            "left": null,
            "margin": null,
            "max_height": null,
            "max_width": null,
            "min_height": null,
            "min_width": null,
            "object_fit": null,
            "object_position": null,
            "order": null,
            "overflow": null,
            "overflow_x": null,
            "overflow_y": null,
            "padding": null,
            "right": null,
            "top": null,
            "visibility": null,
            "width": null
          }
        },
        "7e1b1cadf83d4a9d911771450e01b216": {
          "model_module": "@jupyter-widgets/controls",
          "model_name": "ProgressStyleModel",
          "model_module_version": "1.5.0",
          "state": {
            "_model_module": "@jupyter-widgets/controls",
            "_model_module_version": "1.5.0",
            "_model_name": "ProgressStyleModel",
            "_view_count": null,
            "_view_module": "@jupyter-widgets/base",
            "_view_module_version": "1.2.0",
            "_view_name": "StyleView",
            "bar_color": null,
            "description_width": ""
          }
        },
        "c3c7f2b5510c479492d8f0be4378348b": {
          "model_module": "@jupyter-widgets/base",
          "model_name": "LayoutModel",
          "model_module_version": "1.2.0",
          "state": {
            "_model_module": "@jupyter-widgets/base",
            "_model_module_version": "1.2.0",
            "_model_name": "LayoutModel",
            "_view_count": null,
            "_view_module": "@jupyter-widgets/base",
            "_view_module_version": "1.2.0",
            "_view_name": "LayoutView",
            "align_content": null,
            "align_items": null,
            "align_self": null,
            "border": null,
            "bottom": null,
            "display": null,
            "flex": null,
            "flex_flow": null,
            "grid_area": null,
            "grid_auto_columns": null,
            "grid_auto_flow": null,
            "grid_auto_rows": null,
            "grid_column": null,
            "grid_gap": null,
            "grid_row": null,
            "grid_template_areas": null,
            "grid_template_columns": null,
            "grid_template_rows": null,
            "height": null,
            "justify_content": null,
            "justify_items": null,
            "left": null,
            "margin": null,
            "max_height": null,
            "max_width": null,
            "min_height": null,
            "min_width": null,
            "object_fit": null,
            "object_position": null,
            "order": null,
            "overflow": null,
            "overflow_x": null,
            "overflow_y": null,
            "padding": null,
            "right": null,
            "top": null,
            "visibility": null,
            "width": null
          }
        },
        "30f51e16cd77491a9715d01857642e51": {
          "model_module": "@jupyter-widgets/controls",
          "model_name": "DescriptionStyleModel",
          "model_module_version": "1.5.0",
          "state": {
            "_model_module": "@jupyter-widgets/controls",
            "_model_module_version": "1.5.0",
            "_model_name": "DescriptionStyleModel",
            "_view_count": null,
            "_view_module": "@jupyter-widgets/base",
            "_view_module_version": "1.2.0",
            "_view_name": "StyleView",
            "description_width": ""
          }
        },
        "3d97b35e0ce04e5ab163632ece584338": {
          "model_module": "@jupyter-widgets/controls",
          "model_name": "HBoxModel",
          "model_module_version": "1.5.0",
          "state": {
            "_dom_classes": [],
            "_model_module": "@jupyter-widgets/controls",
            "_model_module_version": "1.5.0",
            "_model_name": "HBoxModel",
            "_view_count": null,
            "_view_module": "@jupyter-widgets/controls",
            "_view_module_version": "1.5.0",
            "_view_name": "HBoxView",
            "box_style": "",
            "children": [
              "IPY_MODEL_bf2c8355640a48599896eaabe3e2769a",
              "IPY_MODEL_e421a3e5ec1d4d0eb1e5951835c6c114",
              "IPY_MODEL_a20c60539f924bf2927d3285fc98e7dc"
            ],
            "layout": "IPY_MODEL_8027c40201794ddc9a1c0d3d5bcd3190"
          }
        },
        "bf2c8355640a48599896eaabe3e2769a": {
          "model_module": "@jupyter-widgets/controls",
          "model_name": "HTMLModel",
          "model_module_version": "1.5.0",
          "state": {
            "_dom_classes": [],
            "_model_module": "@jupyter-widgets/controls",
            "_model_module_version": "1.5.0",
            "_model_name": "HTMLModel",
            "_view_count": null,
            "_view_module": "@jupyter-widgets/controls",
            "_view_module_version": "1.5.0",
            "_view_name": "HTMLView",
            "description": "",
            "description_tooltip": null,
            "layout": "IPY_MODEL_98850c42f271447da1ad80b5ca982583",
            "placeholder": "​",
            "style": "IPY_MODEL_143b9788e5ae4e7f9cb7324a63dcfb07",
            "value": "scaler_y.pkl: 100%"
          }
        },
        "e421a3e5ec1d4d0eb1e5951835c6c114": {
          "model_module": "@jupyter-widgets/controls",
          "model_name": "FloatProgressModel",
          "model_module_version": "1.5.0",
          "state": {
            "_dom_classes": [],
            "_model_module": "@jupyter-widgets/controls",
            "_model_module_version": "1.5.0",
            "_model_name": "FloatProgressModel",
            "_view_count": null,
            "_view_module": "@jupyter-widgets/controls",
            "_view_module_version": "1.5.0",
            "_view_name": "ProgressView",
            "bar_style": "success",
            "description": "",
            "description_tooltip": null,
            "layout": "IPY_MODEL_0f581d974b4747e1960e8efa4d715ae7",
            "max": 474,
            "min": 0,
            "orientation": "horizontal",
            "style": "IPY_MODEL_1f992a4d4d1e44b8bba86fa2bfd5f5a0",
            "value": 474
          }
        },
        "a20c60539f924bf2927d3285fc98e7dc": {
          "model_module": "@jupyter-widgets/controls",
          "model_name": "HTMLModel",
          "model_module_version": "1.5.0",
          "state": {
            "_dom_classes": [],
            "_model_module": "@jupyter-widgets/controls",
            "_model_module_version": "1.5.0",
            "_model_name": "HTMLModel",
            "_view_count": null,
            "_view_module": "@jupyter-widgets/controls",
            "_view_module_version": "1.5.0",
            "_view_name": "HTMLView",
            "description": "",
            "description_tooltip": null,
            "layout": "IPY_MODEL_01965b6eefeb4dc1835743cd58730f2c",
            "placeholder": "​",
            "style": "IPY_MODEL_1f784a7b39ec451b9ce24b4ad48cb9e2",
            "value": " 474/474 [00:00&lt;00:00, 30.5kB/s]"
          }
        },
        "8027c40201794ddc9a1c0d3d5bcd3190": {
          "model_module": "@jupyter-widgets/base",
          "model_name": "LayoutModel",
          "model_module_version": "1.2.0",
          "state": {
            "_model_module": "@jupyter-widgets/base",
            "_model_module_version": "1.2.0",
            "_model_name": "LayoutModel",
            "_view_count": null,
            "_view_module": "@jupyter-widgets/base",
            "_view_module_version": "1.2.0",
            "_view_name": "LayoutView",
            "align_content": null,
            "align_items": null,
            "align_self": null,
            "border": null,
            "bottom": null,
            "display": null,
            "flex": null,
            "flex_flow": null,
            "grid_area": null,
            "grid_auto_columns": null,
            "grid_auto_flow": null,
            "grid_auto_rows": null,
            "grid_column": null,
            "grid_gap": null,
            "grid_row": null,
            "grid_template_areas": null,
            "grid_template_columns": null,
            "grid_template_rows": null,
            "height": null,
            "justify_content": null,
            "justify_items": null,
            "left": null,
            "margin": null,
            "max_height": null,
            "max_width": null,
            "min_height": null,
            "min_width": null,
            "object_fit": null,
            "object_position": null,
            "order": null,
            "overflow": null,
            "overflow_x": null,
            "overflow_y": null,
            "padding": null,
            "right": null,
            "top": null,
            "visibility": null,
            "width": null
          }
        },
        "98850c42f271447da1ad80b5ca982583": {
          "model_module": "@jupyter-widgets/base",
          "model_name": "LayoutModel",
          "model_module_version": "1.2.0",
          "state": {
            "_model_module": "@jupyter-widgets/base",
            "_model_module_version": "1.2.0",
            "_model_name": "LayoutModel",
            "_view_count": null,
            "_view_module": "@jupyter-widgets/base",
            "_view_module_version": "1.2.0",
            "_view_name": "LayoutView",
            "align_content": null,
            "align_items": null,
            "align_self": null,
            "border": null,
            "bottom": null,
            "display": null,
            "flex": null,
            "flex_flow": null,
            "grid_area": null,
            "grid_auto_columns": null,
            "grid_auto_flow": null,
            "grid_auto_rows": null,
            "grid_column": null,
            "grid_gap": null,
            "grid_row": null,
            "grid_template_areas": null,
            "grid_template_columns": null,
            "grid_template_rows": null,
            "height": null,
            "justify_content": null,
            "justify_items": null,
            "left": null,
            "margin": null,
            "max_height": null,
            "max_width": null,
            "min_height": null,
            "min_width": null,
            "object_fit": null,
            "object_position": null,
            "order": null,
            "overflow": null,
            "overflow_x": null,
            "overflow_y": null,
            "padding": null,
            "right": null,
            "top": null,
            "visibility": null,
            "width": null
          }
        },
        "143b9788e5ae4e7f9cb7324a63dcfb07": {
          "model_module": "@jupyter-widgets/controls",
          "model_name": "DescriptionStyleModel",
          "model_module_version": "1.5.0",
          "state": {
            "_model_module": "@jupyter-widgets/controls",
            "_model_module_version": "1.5.0",
            "_model_name": "DescriptionStyleModel",
            "_view_count": null,
            "_view_module": "@jupyter-widgets/base",
            "_view_module_version": "1.2.0",
            "_view_name": "StyleView",
            "description_width": ""
          }
        },
        "0f581d974b4747e1960e8efa4d715ae7": {
          "model_module": "@jupyter-widgets/base",
          "model_name": "LayoutModel",
          "model_module_version": "1.2.0",
          "state": {
            "_model_module": "@jupyter-widgets/base",
            "_model_module_version": "1.2.0",
            "_model_name": "LayoutModel",
            "_view_count": null,
            "_view_module": "@jupyter-widgets/base",
            "_view_module_version": "1.2.0",
            "_view_name": "LayoutView",
            "align_content": null,
            "align_items": null,
            "align_self": null,
            "border": null,
            "bottom": null,
            "display": null,
            "flex": null,
            "flex_flow": null,
            "grid_area": null,
            "grid_auto_columns": null,
            "grid_auto_flow": null,
            "grid_auto_rows": null,
            "grid_column": null,
            "grid_gap": null,
            "grid_row": null,
            "grid_template_areas": null,
            "grid_template_columns": null,
            "grid_template_rows": null,
            "height": null,
            "justify_content": null,
            "justify_items": null,
            "left": null,
            "margin": null,
            "max_height": null,
            "max_width": null,
            "min_height": null,
            "min_width": null,
            "object_fit": null,
            "object_position": null,
            "order": null,
            "overflow": null,
            "overflow_x": null,
            "overflow_y": null,
            "padding": null,
            "right": null,
            "top": null,
            "visibility": null,
            "width": null
          }
        },
        "1f992a4d4d1e44b8bba86fa2bfd5f5a0": {
          "model_module": "@jupyter-widgets/controls",
          "model_name": "ProgressStyleModel",
          "model_module_version": "1.5.0",
          "state": {
            "_model_module": "@jupyter-widgets/controls",
            "_model_module_version": "1.5.0",
            "_model_name": "ProgressStyleModel",
            "_view_count": null,
            "_view_module": "@jupyter-widgets/base",
            "_view_module_version": "1.2.0",
            "_view_name": "StyleView",
            "bar_color": null,
            "description_width": ""
          }
        },
        "01965b6eefeb4dc1835743cd58730f2c": {
          "model_module": "@jupyter-widgets/base",
          "model_name": "LayoutModel",
          "model_module_version": "1.2.0",
          "state": {
            "_model_module": "@jupyter-widgets/base",
            "_model_module_version": "1.2.0",
            "_model_name": "LayoutModel",
            "_view_count": null,
            "_view_module": "@jupyter-widgets/base",
            "_view_module_version": "1.2.0",
            "_view_name": "LayoutView",
            "align_content": null,
            "align_items": null,
            "align_self": null,
            "border": null,
            "bottom": null,
            "display": null,
            "flex": null,
            "flex_flow": null,
            "grid_area": null,
            "grid_auto_columns": null,
            "grid_auto_flow": null,
            "grid_auto_rows": null,
            "grid_column": null,
            "grid_gap": null,
            "grid_row": null,
            "grid_template_areas": null,
            "grid_template_columns": null,
            "grid_template_rows": null,
            "height": null,
            "justify_content": null,
            "justify_items": null,
            "left": null,
            "margin": null,
            "max_height": null,
            "max_width": null,
            "min_height": null,
            "min_width": null,
            "object_fit": null,
            "object_position": null,
            "order": null,
            "overflow": null,
            "overflow_x": null,
            "overflow_y": null,
            "padding": null,
            "right": null,
            "top": null,
            "visibility": null,
            "width": null
          }
        },
        "1f784a7b39ec451b9ce24b4ad48cb9e2": {
          "model_module": "@jupyter-widgets/controls",
          "model_name": "DescriptionStyleModel",
          "model_module_version": "1.5.0",
          "state": {
            "_model_module": "@jupyter-widgets/controls",
            "_model_module_version": "1.5.0",
            "_model_name": "DescriptionStyleModel",
            "_view_count": null,
            "_view_module": "@jupyter-widgets/base",
            "_view_module_version": "1.2.0",
            "_view_name": "StyleView",
            "description_width": ""
          }
        },
        "90e4133ed8734961b4b79ef763db6db2": {
          "model_module": "@jupyter-widgets/controls",
          "model_name": "HBoxModel",
          "model_module_version": "1.5.0",
          "state": {
            "_dom_classes": [],
            "_model_module": "@jupyter-widgets/controls",
            "_model_module_version": "1.5.0",
            "_model_name": "HBoxModel",
            "_view_count": null,
            "_view_module": "@jupyter-widgets/controls",
            "_view_module_version": "1.5.0",
            "_view_name": "HBoxView",
            "box_style": "",
            "children": [
              "IPY_MODEL_32371714162c4b34b02d9dc7096cddfc",
              "IPY_MODEL_9ef64067c8b248b4aa0e25dcd26cb66f",
              "IPY_MODEL_c940a17b7b994d28ae59a3127c8b212d"
            ],
            "layout": "IPY_MODEL_5c61103c2d4a4f78bc1fa6cac91122ab"
          }
        },
        "32371714162c4b34b02d9dc7096cddfc": {
          "model_module": "@jupyter-widgets/controls",
          "model_name": "HTMLModel",
          "model_module_version": "1.5.0",
          "state": {
            "_dom_classes": [],
            "_model_module": "@jupyter-widgets/controls",
            "_model_module_version": "1.5.0",
            "_model_name": "HTMLModel",
            "_view_count": null,
            "_view_module": "@jupyter-widgets/controls",
            "_view_module_version": "1.5.0",
            "_view_name": "HTMLView",
            "description": "",
            "description_tooltip": null,
            "layout": "IPY_MODEL_373a55d3983d4e20814181cb855b5a1a",
            "placeholder": "​",
            "style": "IPY_MODEL_8a08313ea56443809aa80e50bee6d83a",
            "value": "poly_transformer.pkl: 100%"
          }
        },
        "9ef64067c8b248b4aa0e25dcd26cb66f": {
          "model_module": "@jupyter-widgets/controls",
          "model_name": "FloatProgressModel",
          "model_module_version": "1.5.0",
          "state": {
            "_dom_classes": [],
            "_model_module": "@jupyter-widgets/controls",
            "_model_module_version": "1.5.0",
            "_model_name": "FloatProgressModel",
            "_view_count": null,
            "_view_module": "@jupyter-widgets/controls",
            "_view_module_version": "1.5.0",
            "_view_name": "ProgressView",
            "bar_style": "success",
            "description": "",
            "description_tooltip": null,
            "layout": "IPY_MODEL_ed3e2e43d7c74e6f9bc7d7559ccded85",
            "max": 255,
            "min": 0,
            "orientation": "horizontal",
            "style": "IPY_MODEL_36b44bc207fe4025a2527a7cfeb44929",
            "value": 255
          }
        },
        "c940a17b7b994d28ae59a3127c8b212d": {
          "model_module": "@jupyter-widgets/controls",
          "model_name": "HTMLModel",
          "model_module_version": "1.5.0",
          "state": {
            "_dom_classes": [],
            "_model_module": "@jupyter-widgets/controls",
            "_model_module_version": "1.5.0",
            "_model_name": "HTMLModel",
            "_view_count": null,
            "_view_module": "@jupyter-widgets/controls",
            "_view_module_version": "1.5.0",
            "_view_name": "HTMLView",
            "description": "",
            "description_tooltip": null,
            "layout": "IPY_MODEL_106cd57a9559421e85788d41a805792e",
            "placeholder": "​",
            "style": "IPY_MODEL_50c09d92e99c4f3da5afde9d03c4cb76",
            "value": " 255/255 [00:00&lt;00:00, 20.9kB/s]"
          }
        },
        "5c61103c2d4a4f78bc1fa6cac91122ab": {
          "model_module": "@jupyter-widgets/base",
          "model_name": "LayoutModel",
          "model_module_version": "1.2.0",
          "state": {
            "_model_module": "@jupyter-widgets/base",
            "_model_module_version": "1.2.0",
            "_model_name": "LayoutModel",
            "_view_count": null,
            "_view_module": "@jupyter-widgets/base",
            "_view_module_version": "1.2.0",
            "_view_name": "LayoutView",
            "align_content": null,
            "align_items": null,
            "align_self": null,
            "border": null,
            "bottom": null,
            "display": null,
            "flex": null,
            "flex_flow": null,
            "grid_area": null,
            "grid_auto_columns": null,
            "grid_auto_flow": null,
            "grid_auto_rows": null,
            "grid_column": null,
            "grid_gap": null,
            "grid_row": null,
            "grid_template_areas": null,
            "grid_template_columns": null,
            "grid_template_rows": null,
            "height": null,
            "justify_content": null,
            "justify_items": null,
            "left": null,
            "margin": null,
            "max_height": null,
            "max_width": null,
            "min_height": null,
            "min_width": null,
            "object_fit": null,
            "object_position": null,
            "order": null,
            "overflow": null,
            "overflow_x": null,
            "overflow_y": null,
            "padding": null,
            "right": null,
            "top": null,
            "visibility": null,
            "width": null
          }
        },
        "373a55d3983d4e20814181cb855b5a1a": {
          "model_module": "@jupyter-widgets/base",
          "model_name": "LayoutModel",
          "model_module_version": "1.2.0",
          "state": {
            "_model_module": "@jupyter-widgets/base",
            "_model_module_version": "1.2.0",
            "_model_name": "LayoutModel",
            "_view_count": null,
            "_view_module": "@jupyter-widgets/base",
            "_view_module_version": "1.2.0",
            "_view_name": "LayoutView",
            "align_content": null,
            "align_items": null,
            "align_self": null,
            "border": null,
            "bottom": null,
            "display": null,
            "flex": null,
            "flex_flow": null,
            "grid_area": null,
            "grid_auto_columns": null,
            "grid_auto_flow": null,
            "grid_auto_rows": null,
            "grid_column": null,
            "grid_gap": null,
            "grid_row": null,
            "grid_template_areas": null,
            "grid_template_columns": null,
            "grid_template_rows": null,
            "height": null,
            "justify_content": null,
            "justify_items": null,
            "left": null,
            "margin": null,
            "max_height": null,
            "max_width": null,
            "min_height": null,
            "min_width": null,
            "object_fit": null,
            "object_position": null,
            "order": null,
            "overflow": null,
            "overflow_x": null,
            "overflow_y": null,
            "padding": null,
            "right": null,
            "top": null,
            "visibility": null,
            "width": null
          }
        },
        "8a08313ea56443809aa80e50bee6d83a": {
          "model_module": "@jupyter-widgets/controls",
          "model_name": "DescriptionStyleModel",
          "model_module_version": "1.5.0",
          "state": {
            "_model_module": "@jupyter-widgets/controls",
            "_model_module_version": "1.5.0",
            "_model_name": "DescriptionStyleModel",
            "_view_count": null,
            "_view_module": "@jupyter-widgets/base",
            "_view_module_version": "1.2.0",
            "_view_name": "StyleView",
            "description_width": ""
          }
        },
        "ed3e2e43d7c74e6f9bc7d7559ccded85": {
          "model_module": "@jupyter-widgets/base",
          "model_name": "LayoutModel",
          "model_module_version": "1.2.0",
          "state": {
            "_model_module": "@jupyter-widgets/base",
            "_model_module_version": "1.2.0",
            "_model_name": "LayoutModel",
            "_view_count": null,
            "_view_module": "@jupyter-widgets/base",
            "_view_module_version": "1.2.0",
            "_view_name": "LayoutView",
            "align_content": null,
            "align_items": null,
            "align_self": null,
            "border": null,
            "bottom": null,
            "display": null,
            "flex": null,
            "flex_flow": null,
            "grid_area": null,
            "grid_auto_columns": null,
            "grid_auto_flow": null,
            "grid_auto_rows": null,
            "grid_column": null,
            "grid_gap": null,
            "grid_row": null,
            "grid_template_areas": null,
            "grid_template_columns": null,
            "grid_template_rows": null,
            "height": null,
            "justify_content": null,
            "justify_items": null,
            "left": null,
            "margin": null,
            "max_height": null,
            "max_width": null,
            "min_height": null,
            "min_width": null,
            "object_fit": null,
            "object_position": null,
            "order": null,
            "overflow": null,
            "overflow_x": null,
            "overflow_y": null,
            "padding": null,
            "right": null,
            "top": null,
            "visibility": null,
            "width": null
          }
        },
        "36b44bc207fe4025a2527a7cfeb44929": {
          "model_module": "@jupyter-widgets/controls",
          "model_name": "ProgressStyleModel",
          "model_module_version": "1.5.0",
          "state": {
            "_model_module": "@jupyter-widgets/controls",
            "_model_module_version": "1.5.0",
            "_model_name": "ProgressStyleModel",
            "_view_count": null,
            "_view_module": "@jupyter-widgets/base",
            "_view_module_version": "1.2.0",
            "_view_name": "StyleView",
            "bar_color": null,
            "description_width": ""
          }
        },
        "106cd57a9559421e85788d41a805792e": {
          "model_module": "@jupyter-widgets/base",
          "model_name": "LayoutModel",
          "model_module_version": "1.2.0",
          "state": {
            "_model_module": "@jupyter-widgets/base",
            "_model_module_version": "1.2.0",
            "_model_name": "LayoutModel",
            "_view_count": null,
            "_view_module": "@jupyter-widgets/base",
            "_view_module_version": "1.2.0",
            "_view_name": "LayoutView",
            "align_content": null,
            "align_items": null,
            "align_self": null,
            "border": null,
            "bottom": null,
            "display": null,
            "flex": null,
            "flex_flow": null,
            "grid_area": null,
            "grid_auto_columns": null,
            "grid_auto_flow": null,
            "grid_auto_rows": null,
            "grid_column": null,
            "grid_gap": null,
            "grid_row": null,
            "grid_template_areas": null,
            "grid_template_columns": null,
            "grid_template_rows": null,
            "height": null,
            "justify_content": null,
            "justify_items": null,
            "left": null,
            "margin": null,
            "max_height": null,
            "max_width": null,
            "min_height": null,
            "min_width": null,
            "object_fit": null,
            "object_position": null,
            "order": null,
            "overflow": null,
            "overflow_x": null,
            "overflow_y": null,
            "padding": null,
            "right": null,
            "top": null,
            "visibility": null,
            "width": null
          }
        },
        "50c09d92e99c4f3da5afde9d03c4cb76": {
          "model_module": "@jupyter-widgets/controls",
          "model_name": "DescriptionStyleModel",
          "model_module_version": "1.5.0",
          "state": {
            "_model_module": "@jupyter-widgets/controls",
            "_model_module_version": "1.5.0",
            "_model_name": "DescriptionStyleModel",
            "_view_count": null,
            "_view_module": "@jupyter-widgets/base",
            "_view_module_version": "1.2.0",
            "_view_name": "StyleView",
            "description_width": ""
          }
        }
      }
    }
  },
  "cells": [
    {
      "cell_type": "markdown",
      "metadata": {
        "id": "view-in-github",
        "colab_type": "text"
      },
      "source": [
        "<a href=\"https://colab.research.google.com/github/Umama123/Housing-price-predictor-/blob/main/ML_A_03.ipynb\" target=\"_parent\"><img src=\"https://colab.research.google.com/assets/colab-badge.svg\" alt=\"Open In Colab\"/></a>"
      ]
    },
    {
      "cell_type": "code",
      "execution_count": null,
      "metadata": {
        "colab": {
          "base_uri": "https://localhost:8080/"
        },
        "id": "1L_etxqYZjtj",
        "outputId": "739df2f9-64fd-491a-b275-9d3c89533fe3"
      },
      "outputs": [
        {
          "output_type": "stream",
          "name": "stdout",
          "text": [
            "Drive already mounted at /content/drive; to attempt to forcibly remount, call drive.mount(\"/content/drive\", force_remount=True).\n"
          ]
        }
      ],
      "source": [
        "# 📦 Import libraries\n",
        "# 1. IMPORT LIBRARIES\n",
        "import pandas as pd\n",
        "import numpy as np\n",
        "import matplotlib.pyplot as plt\n",
        "from sklearn.model_selection import train_test_split\n",
        "from sklearn.preprocessing import StandardScaler\n",
        "from sklearn.metrics import mean_squared_error, r2_score\n",
        "from sklearn.preprocessing import StandardScaler, PolynomialFeatures\n",
        "from sklearn.linear_model import LinearRegression, Ridge, Lasso\n",
        "# 🔗 Mount Google Drive\n",
        "from google.colab import drive\n",
        "drive.mount('/content/drive')\n",
        "\n",
        "\n",
        "\n",
        "\n"
      ]
    },
    {
      "cell_type": "code",
      "source": [
        "\n",
        "# 📥 Load Data\n",
        "file_path = '/content/drive/MyDrive/ML_A_03/global_housing_market_extended.csv'\n",
        "df = pd.read_csv(file_path)\n",
        "\n",
        "# Drop non-numeric or unnecessary columns\n",
        "df = df.drop(columns=['Country', 'Year'])\n",
        "\n",
        "# Drop rows with missing values\n",
        "df.dropna(inplace=True)\n",
        "\n",
        "# Separate features and target\n",
        "X = df.drop(columns=['House Price Index']).values\n",
        "y = df['House Price Index'].values.reshape(-1, 1)\n",
        "\n",
        "# Normalize features\n",
        "scaler_X = StandardScaler()\n",
        "scaler_y = StandardScaler()\n",
        "X_scaled = scaler_X.fit_transform(X)\n",
        "y_scaled = scaler_y.fit_transform(y)\n",
        "\n",
        "# Train-test split\n",
        "X_train, X_test, y_train, y_test = train_test_split(X_scaled, y_scaled, test_size=0.2, random_state=42)\n"
      ],
      "metadata": {
        "id": "ISDuJhbAqgX8"
      },
      "execution_count": null,
      "outputs": []
    },
    {
      "cell_type": "code",
      "source": [
        "def gradient_descent(X, y, lr=0.01, epochs=1000, batch_size=None,\n",
        "                     reg_type=None, lam=0.01, early_stopping=True, patience=10):\n",
        "    m, n = X.shape\n",
        "    W = np.random.randn(n, 1)\n",
        "    b = 0\n",
        "    best_loss = float('inf')\n",
        "    patience_counter = 0\n",
        "\n",
        "    losses = []\n",
        "\n",
        "    for epoch in range(epochs):\n",
        "        # Shuffle\n",
        "        indices = np.arange(m)\n",
        "        np.random.shuffle(indices)\n",
        "        X_shuffled = X[indices]\n",
        "        y_shuffled = y[indices]\n",
        "\n",
        "        for i in range(0, m, batch_size if batch_size else m):\n",
        "            X_batch = X_shuffled[i:i + (batch_size if batch_size else m)]\n",
        "            y_batch = y_shuffled[i:i + (batch_size if batch_size else m)]\n",
        "\n",
        "            y_pred = X_batch @ W + b\n",
        "            error = y_pred - y_batch\n",
        "            loss = np.mean(error**2)\n",
        "\n",
        "            # Add regularization\n",
        "            if reg_type == 'l2':\n",
        "                loss += lam * np.sum(W ** 2)\n",
        "            elif reg_type == 'l1':\n",
        "                loss += lam * np.sum(np.abs(W))\n",
        "\n",
        "            losses.append(loss)\n",
        "\n",
        "            # Gradients\n",
        "            dW = 2 * X_batch.T @ error / len(X_batch)\n",
        "            db = 2 * np.mean(error)\n",
        "\n",
        "            # Regularization grads\n",
        "            if reg_type == 'l2':\n",
        "                dW += 2 * lam * W\n",
        "            elif reg_type == 'l1':\n",
        "                dW += lam * np.sign(W)\n",
        "\n",
        "            # Update\n",
        "            W -= lr * dW\n",
        "            b -= lr * db\n",
        "\n",
        "        # Early stopping check\n",
        "        val_pred = X_test @ W + b\n",
        "        val_loss = mean_squared_error(y_test, val_pred)\n",
        "\n",
        "        if val_loss < best_loss:\n",
        "            best_loss = val_loss\n",
        "            patience_counter = 0\n",
        "        else:\n",
        "            patience_counter += 1\n",
        "            if early_stopping and patience_counter >= patience:\n",
        "                print(f\"Early stopping at epoch {epoch}\")\n",
        "                break\n",
        "\n",
        "    return W, b\n"
      ],
      "metadata": {
        "id": "1MM-j7LQqrhO"
      },
      "execution_count": null,
      "outputs": []
    },
    {
      "cell_type": "code",
      "source": [
        "models = {}\n",
        "\n",
        "# Batch GD\n",
        "models['Batch GD'] = gradient_descent(X_train, y_train, lr=0.01, epochs=500, reg_type='l2', batch_size=None)\n",
        "\n",
        "# Stochastic GD\n",
        "models['Stochastic GD'] = gradient_descent(X_train, y_train, lr=0.01, epochs=500, reg_type='l1', batch_size=1)\n",
        "\n",
        "# Mini-batch GD\n",
        "models['Mini-batch GD'] = gradient_descent(X_train, y_train, lr=0.01, epochs=500, reg_type='l2', batch_size=32)\n"
      ],
      "metadata": {
        "colab": {
          "base_uri": "https://localhost:8080/"
        },
        "id": "qKsjKXCjqv6_",
        "outputId": "d4f003cb-ccd4-4c12-eb8e-7a2f6b155de3"
      },
      "execution_count": null,
      "outputs": [
        {
          "output_type": "stream",
          "name": "stdout",
          "text": [
            "Early stopping at epoch 264\n",
            "Early stopping at epoch 14\n",
            "Early stopping at epoch 71\n"
          ]
        }
      ]
    },
    {
      "cell_type": "code",
      "source": [
        "def evaluate_and_plot(model_name, W, b):\n",
        "    y_pred = X_test @ W + b\n",
        "    y_pred_inv = scaler_y.inverse_transform(y_pred)\n",
        "    y_test_inv = scaler_y.inverse_transform(y_test)\n",
        "\n",
        "    rmse = np.sqrt(mean_squared_error(y_test_inv, y_pred_inv))\n",
        "    r2 = r2_score(y_test_inv, y_pred_inv)\n",
        "\n",
        "    print(f\"{model_name} - RMSE: {rmse:.2f}, R²: {r2:.2f}\")\n",
        "\n",
        "    plt.figure(figsize=(6, 4))\n",
        "    plt.scatter(y_test_inv, y_pred_inv, alpha=0.6)\n",
        "    plt.plot([y_test_inv.min(), y_test_inv.max()],\n",
        "             [y_test_inv.min(), y_test_inv.max()], 'r--')\n",
        "    plt.xlabel(\"Actual House Price Index\")\n",
        "    plt.ylabel(\"Predicted\")\n",
        "    plt.title(f\"{model_name} - Actual vs Predicted\")\n",
        "    plt.grid(True)\n",
        "    plt.show()\n",
        "\n",
        "for name, (W, b) in models.items():\n",
        "    evaluate_and_plot(name, W, b)\n"
      ],
      "metadata": {
        "colab": {
          "base_uri": "https://localhost:8080/",
          "height": 1000
        },
        "collapsed": true,
        "id": "F3PMIUYkqzNa",
        "outputId": "04b894e7-373d-4fa2-a9e0-63d3645e0c7b"
      },
      "execution_count": null,
      "outputs": [
        {
          "output_type": "stream",
          "name": "stdout",
          "text": [
            "Batch GD - RMSE: 30.46, R²: -0.01\n"
          ]
        },
        {
          "output_type": "display_data",
          "data": {
            "text/plain": [
              "<Figure size 600x400 with 1 Axes>"
            ],
            "image/png": "[encoded data removed]"
          },
          "metadata": {}
        },
        {
          "output_type": "stream",
          "name": "stdout",
          "text": [
            "Stochastic GD - RMSE: 30.54, R²: -0.01\n"
          ]
        },
        {
          "output_type": "display_data",
          "data": {
            "text/plain": [
              "<Figure size 600x400 with 1 Axes>"
            ],
            "image/png": "[encoded data removed]"
          },
          "metadata": {}
        },
        {
          "output_type": "stream",
          "name": "stdout",
          "text": [
            "Mini-batch GD - RMSE: 30.49, R²: -0.01\n"
          ]
        },
        {
          "output_type": "display_data",
          "data": {
            "text/plain": [
              "<Figure size 600x400 with 1 Axes>"
            ],
            "image/png": "[encoded data removed]"
          },
          "metadata": {}
        }
      ]
    },
    {
      "cell_type": "markdown",
      "source": [
        "**Regression Techniques:**"
      ],
      "metadata": {
        "id": "7hcuTiYFvgfC"
      }
    },
    {
      "cell_type": "code",
      "source": [
        "def train_and_evaluate_model(name, model, X_train, y_train, X_test, y_test):\n",
        "    model.fit(X_train, y_train.ravel())\n",
        "\n",
        "    y_pred = model.predict(X_test)\n",
        "    y_pred_inv = scaler_y.inverse_transform(y_pred.reshape(-1, 1))\n",
        "    y_test_inv = scaler_y.inverse_transform(y_test)\n",
        "\n",
        "    rmse = np.sqrt(mean_squared_error(y_test_inv, y_pred_inv))\n",
        "    r2 = r2_score(y_test_inv, y_pred_inv)\n",
        "\n",
        "    print(f\"{name} - RMSE: {rmse:.2f}, R²: {r2:.2f}\")\n",
        "\n",
        "    # Plot Actual vs Predicted\n",
        "    plt.figure(figsize=(6, 4))\n",
        "    plt.scatter(y_test_inv, y_pred_inv, alpha=0.6)\n",
        "    plt.plot([y_test_inv.min(), y_test_inv.max()],\n",
        "             [y_test_inv.min(), y_test_inv.max()], 'r--')\n",
        "    plt.xlabel(\"Actual House Price Index\")\n",
        "    plt.ylabel(\"Predicted\")\n",
        "    plt.title(f\"{name} - Actual vs Predicted\")\n",
        "    plt.grid(True)\n",
        "    plt.show()\n"
      ],
      "metadata": {
        "id": "Sp5Xk2hGu6VJ"
      },
      "execution_count": null,
      "outputs": []
    },
    {
      "cell_type": "code",
      "source": [
        "# Linear Regression\n",
        "train_and_evaluate_model(\"Linear Regression\", LinearRegression(), X_train, y_train, X_test, y_test)\n",
        "\n",
        "# Ridge Regression (L2)\n",
        "train_and_evaluate_model(\"Ridge Regression (L2)\", Ridge(alpha=1.0), X_train, y_train, X_test, y_test)\n",
        "\n",
        "# Lasso Regression (L1)\n",
        "train_and_evaluate_model(\"Lasso Regression (L1)\", Lasso(alpha=0.01, max_iter=10000), X_train, y_train, X_test, y_test)\n"
      ],
      "metadata": {
        "colab": {
          "base_uri": "https://localhost:8080/",
          "height": 1000
        },
        "collapsed": true,
        "id": "pJ7-rFPEvMK4",
        "outputId": "24cbc87f-28f5-4161-a3df-abb1937a06c3"
      },
      "execution_count": null,
      "outputs": [
        {
          "output_type": "stream",
          "name": "stdout",
          "text": [
            "Linear Regression - RMSE: 30.51, R²: -0.01\n"
          ]
        },
        {
          "output_type": "display_data",
          "data": {
            "text/plain": [
              "<Figure size 600x400 with 1 Axes>"
            ],
            "image/png": "[encoded data removed]"
          },
          "metadata": {}
        },
        {
          "output_type": "stream",
          "name": "stdout",
          "text": [
            "Ridge Regression (L2) - RMSE: 30.50, R²: -0.01\n"
          ]
        },
        {
          "output_type": "display_data",
          "data": {
            "text/plain": [
              "<Figure size 600x400 with 1 Axes>"
            ],
            "image/png": "[encoded data removed]"
          },
          "metadata": {}
        },
        {
          "output_type": "stream",
          "name": "stdout",
          "text": [
            "Lasso Regression (L1) - RMSE: 30.42, R²: -0.00\n"
          ]
        },
        {
          "output_type": "display_data",
          "data": {
            "text/plain": [
              "<Figure size 600x400 with 1 Axes>"
            ],
            "image/png": "[encoded data removed]"
          },
          "metadata": {}
        }
      ]
    },
    {
      "cell_type": "code",
      "source": [
        "from sklearn.linear_model import SGDRegressor\n",
        "\n",
        "# Transform to polynomial features\n",
        "poly = PolynomialFeatures(degree=2, include_bias=False)\n",
        "X_poly = poly.fit_transform(X)\n",
        "\n",
        "# Scale\n",
        "X_poly_scaled = scaler_X.fit_transform(X_poly)\n",
        "X_train_poly, X_test_poly, y_train_poly, y_test_poly = train_test_split(X_poly_scaled, y_scaled, test_size=0.2, random_state=42)\n",
        "\n",
        "# L2 Regularization with Early Stopping (Ridge)\n",
        "sgd_ridge = SGDRegressor(loss='squared_error', penalty='l2', alpha=0.001,\n",
        "                         learning_rate='adaptive', early_stopping=True,\n",
        "                         validation_fraction=0.1, n_iter_no_change=5,\n",
        "                         max_iter=1000, random_state=42)\n",
        "\n",
        "# L1 Regularization with Early Stopping (Lasso)\n",
        "sgd_lasso = SGDRegressor(loss='squared_error', penalty='l1', alpha=0.001,\n",
        "                         learning_rate='adaptive', early_stopping=True,\n",
        "                         validation_fraction=0.1, n_iter_no_change=5,\n",
        "                         max_iter=1000, random_state=42)\n",
        "\n",
        "# Training & Plotting Function\n",
        "def train_sgd_with_plot(model, name, X_train, y_train, X_test, y_test):\n",
        "    model.fit(X_train, y_train.ravel())\n",
        "    y_pred = model.predict(X_test)\n",
        "    y_pred_inv = scaler_y.inverse_transform(y_pred.reshape(-1, 1))\n",
        "    y_test_inv = scaler_y.inverse_transform(y_test)\n",
        "\n",
        "    rmse = np.sqrt(mean_squared_error(y_test_inv, y_pred_inv))\n",
        "    r2 = r2_score(y_test_inv, y_pred_inv)\n",
        "\n",
        "    # Plot\n",
        "    plt.figure(figsize=(6, 4))\n",
        "    plt.scatter(y_test_inv, y_pred_inv, alpha=0.6)\n",
        "    plt.plot([y_test_inv.min(), y_test_inv.max()],\n",
        "             [y_test_inv.min(), y_test_inv.max()], 'r--')\n",
        "    plt.xlabel(\"Actual House Price Index\")\n",
        "    plt.ylabel(\"Predicted\")\n",
        "    plt.title(f\"{name} - Actual vs Predicted\\nRMSE: {rmse:.2f}, R²: {r2:.2f}\")\n",
        "    plt.grid(True)\n",
        "    plt.tight_layout()\n",
        "    plt.show()\n",
        "\n",
        "# Run models with early stopping\n",
        "train_sgd_with_plot(sgd_ridge, \"Polynomial Ridge (SGD + Early Stopping)\", X_train_poly, y_train_poly, X_test_poly, y_test_poly)\n",
        "train_sgd_with_plot(sgd_lasso, \"Polynomial Lasso (SGD + Early Stopping)\", X_train_poly, y_train_poly, X_test_poly, y_test_poly)\n"
      ],
      "metadata": {
        "colab": {
          "base_uri": "https://localhost:8080/",
          "height": 797
        },
        "collapsed": true,
        "id": "1SGyHKLZvraF",
        "outputId": "1251aec0-cb80-4a9f-c5c7-7f7b83c0189e"
      },
      "execution_count": null,
      "outputs": [
        {
          "output_type": "display_data",
          "data": {
            "text/plain": [
              "<Figure size 600x400 with 1 Axes>"
            ],
            "image/png": "[encoded data removed]"
          },
          "metadata": {}
        },
        {
          "output_type": "display_data",
          "data": {
            "text/plain": [
              "<Figure size 600x400 with 1 Axes>"
            ],
            "image/png": "[encoded data removed]"
          },
          "metadata": {}
        }
      ]
    },
    {
      "cell_type": "code",
      "source": [
        "import pickle\n",
        "\n",
        "\n",
        "with open(\"ridge_model.pkl\", \"wb\") as f:\n",
        "    pickle.dump(sgd_ridge, f)\n",
        "\n",
        "\n",
        "with open(\"scaler_X.pkl\", \"wb\") as f:\n",
        "    pickle.dump(scaler_X, f)\n",
        "\n",
        "with open(\"scaler_y.pkl\", \"wb\") as f:\n",
        "    pickle.dump(scaler_y, f)\n",
        "\n",
        "with open(\"poly_transformer.pkl\", \"wb\") as f:\n",
        "    pickle.dump(poly, f)\n"
      ],
      "metadata": {
        "id": "mUaHA7W6xCkt"
      },
      "execution_count": null,
      "outputs": []
    },
    {
      "cell_type": "code",
      "source": [
        "!pip install huggingface_hub\n"
      ],
      "metadata": {
        "colab": {
          "base_uri": "https://localhost:8080/"
        },
        "id": "1qY1b4EQ7T27",
        "outputId": "34533663-a367-402c-bbda-79945f5165d5"
      },
      "execution_count": null,
      "outputs": [
        {
          "output_type": "stream",
          "name": "stdout",
          "text": [
            "Requirement already satisfied: huggingface_hub in /usr/local/lib/python3.11/dist-packages (0.30.1)\n",
            "Requirement already satisfied: filelock in /usr/local/lib/python3.11/dist-packages (from huggingface_hub) (3.18.0)\n",
            "Requirement already satisfied: fsspec>=2023.5.0 in /usr/local/lib/python3.11/dist-packages (from huggingface_hub) (2025.3.2)\n",
            "Requirement already satisfied: packaging>=20.9 in /usr/local/lib/python3.11/dist-packages (from huggingface_hub) (24.2)\n",
            "Requirement already satisfied: pyyaml>=5.1 in /usr/local/lib/python3.11/dist-packages (from huggingface_hub) (6.0.2)\n",
            "Requirement already satisfied: requests in /usr/local/lib/python3.11/dist-packages (from huggingface_hub) (2.32.3)\n",
            "Requirement already satisfied: tqdm>=4.42.1 in /usr/local/lib/python3.11/dist-packages (from huggingface_hub) (4.67.1)\n",
            "Requirement already satisfied: typing-extensions>=3.7.4.3 in /usr/local/lib/python3.11/dist-packages (from huggingface_hub) (4.13.1)\n",
            "Requirement already satisfied: charset-normalizer<4,>=2 in /usr/local/lib/python3.11/dist-packages (from requests->huggingface_hub) (3.4.1)\n",
            "Requirement already satisfied: idna<4,>=2.5 in /usr/local/lib/python3.11/dist-packages (from requests->huggingface_hub) (3.10)\n",
            "Requirement already satisfied: urllib3<3,>=1.21.1 in /usr/local/lib/python3.11/dist-packages (from requests->huggingface_hub) (2.3.0)\n",
            "Requirement already satisfied: certifi>=2017.4.17 in /usr/local/lib/python3.11/dist-packages (from requests->huggingface_hub) (2025.1.31)\n"
          ]
        }
      ]
    },
    {
      "cell_type": "code",
      "source": [
        "from huggingface_hub import notebook_login\n",
        "\n",
        "notebook_login()\n"
      ],
      "metadata": {
        "colab": {
          "base_uri": "https://localhost:8080/",
          "height": 17,
          "referenced_widgets": [
            "88e30e0fb2c74d53aba6d05d3f73c009",
            "f5329e411544424a8d8f191397cfb57a",
            "2fd55365b40243a5a4eae020ab56df9b",
            "7e4c6946c4554246a1abff1cfa87fa84",
            "68b30829653346c283c2b1f547e8b3b7",
            "07801236fbba47a18c6e535d4e7addc1",
            "3da5009238c54be999a53207b575c5d4",
            "f8608f6c2b05478c9c9f153b22521788",
            "1eb819b4174f47749df4fc52330acaeb",
            "e409a65a438c42ec86bdb68252b7beb4",
            "dffb73c6faa649829d9e6ce576976ba4",
            "a86a03104b2841b391d1886c6c74691e",
            "a57c9d17e71846e8ac622fc31c5a5512",
            "3af8fc631edb4f39a6bf4d704aafc2db",
            "9ea8e68c30f04911831cf5b53b87c984",
            "15fed64c41a14aaeb5b8585681a62e90",
            "86aa4475e446437e90cfd5969a0633b2",
            "1b5dd64dbf3c45aca03eb5bd6f1d06de",
            "fe8285469e4d4f7bb2f5f9f9eb44bcc7",
            "1a477e4aa9f64d82b0ac44ff68bcf10c"
          ]
        },
        "collapsed": true,
        "id": "9_mtMnoF7fQU",
        "outputId": "76df432c-c9b9-4976-98ee-eca868ff9652"
      },
      "execution_count": null,
      "outputs": [
        {
          "output_type": "display_data",
          "data": {
            "text/plain": [
              "VBox(children=(HTML(value='<center> <img\\nsrc=https://huggingface.co/front/assets/huggingface_logo-noborder.sv…"
            ],
            "application/vnd.jupyter.widget-view+json": {
              "version_major": 2,
              "version_minor": 0,
              "model_id": "88e30e0fb2c74d53aba6d05d3f73c009"
            }
          },
          "metadata": {}
        }
      ]
    },
    {
      "cell_type": "code",
      "source": [
        "!huggingface-cli login"
      ],
      "metadata": {
        "colab": {
          "base_uri": "https://localhost:8080/"
        },
        "id": "zpBwOSbI9C8v",
        "outputId": "4f951926-4f85-4fd7-a11a-dcbc4d94fcf7"
      },
      "execution_count": null,
      "outputs": [
        {
          "output_type": "stream",
          "name": "stdout",
          "text": [
            "\n",
            "    _|    _|  _|    _|    _|_|_|    _|_|_|  _|_|_|  _|      _|    _|_|_|      _|_|_|_|    _|_|      _|_|_|  _|_|_|_|\n",
            "    _|    _|  _|    _|  _|        _|          _|    _|_|    _|  _|            _|        _|    _|  _|        _|\n",
            "    _|_|_|_|  _|    _|  _|  _|_|  _|  _|_|    _|    _|  _|  _|  _|  _|_|      _|_|_|    _|_|_|_|  _|        _|_|_|\n",
            "    _|    _|  _|    _|  _|    _|  _|    _|    _|    _|    _|_|  _|    _|      _|        _|    _|  _|        _|\n",
            "    _|    _|    _|_|      _|_|_|    _|_|_|  _|_|_|  _|      _|    _|_|_|      _|        _|    _|    _|_|_|  _|_|_|_|\n",
            "\n",
            "    A token is already saved on your machine. Run `huggingface-cli whoami` to get more information or `huggingface-cli logout` if you want to log out.\n",
            "    Setting a new token will erase the existing one.\n",
            "    To log in, `huggingface_hub` requires a token generated from https://huggingface.co/settings/tokens .\n",
            "Enter your token (input will not be visible): \n",
            "Add token as git credential? (Y/n) y\n",
            "Token is valid (permission: fineGrained).\n",
            "The token `Umama906` has been saved to /root/.cache/huggingface/stored_tokens\n",
            "Your token has been saved in your configured git credential helpers (store).\n",
            "Your token has been saved to /root/.cache/huggingface/token\n",
            "Login successful.\n",
            "The current active token is: `Umama906`\n"
          ]
        }
      ]
    },
    {
      "cell_type": "code",
      "source": [
        "import os\n",
        "import shutil\n",
        "\n",
        "# Create model directory\n",
        "os.makedirs(\"ridge_model\", exist_ok=True)\n",
        "\n",
        "# Move your pickle files into it\n",
        "shutil.move(\"ridge_model.pkl\", \"ridge_model/ridge_model.pkl\")\n",
        "shutil.move(\"scaler_X.pkl\", \"ridge_model/scaler_X.pkl\")\n",
        "shutil.move(\"scaler_y.pkl\", \"ridge_model/scaler_y.pkl\")\n",
        "shutil.move(\"poly_transformer.pkl\", \"ridge_model/poly_transformer.pkl\")\n"
      ],
      "metadata": {
        "colab": {
          "base_uri": "https://localhost:8080/",
          "height": 36
        },
        "id": "qMK1wgzX_iQS",
        "outputId": "5bfac376-c6f3-4bb4-e39b-e0dfbd507dd3"
      },
      "execution_count": null,
      "outputs": [
        {
          "output_type": "execute_result",
          "data": {
            "text/plain": [
              "'ridge_model/poly_transformer.pkl'"
            ],
            "application/vnd.google.colaboratory.intrinsic+json": {
              "type": "string"
            }
          },
          "metadata": {},
          "execution_count": 30
        }
      ]
    },
    {
      "cell_type": "code",
      "source": [
        "import os\n",
        "\n",
        "# Create the folder if it doesn't exist\n",
        "os.makedirs(repo_local_path, exist_ok=True)\n"
      ],
      "metadata": {
        "id": "ygA25db_ZVGh"
      },
      "execution_count": null,
      "outputs": []
    },
    {
      "cell_type": "code",
      "source": [
        "import os\n",
        "# 1. Define the repo path\n",
        "repo_name = \"Global-Housing-Market-Analysis\"\n",
        "repo_local_path = f\"./{repo_name}\"\n",
        "\n",
        "os.makedirs(repo_local_path, exist_ok=True)\n",
        "\n",
        "# 2. Now write the README.md inside it\n",
        "readme_content = \"\"\"\n",
        "# Global Housing Price Index Regression Model 🏠📈\n",
        "\n",
        "This model predicts House Price Index using macroeconomic indicators like:\n",
        "\n",
        "- Rent Index\n",
        "- Mortgage Rate (%)\n",
        "- Inflation Rate (%)\n",
        "- GDP Growth (%)\n",
        "- Population Growth (%)\n",
        "- Urbanization Rate (%)\n",
        "- Construction Index\n",
        "\n",
        "## Model Details\n",
        "\n",
        "- Type: Polynomial Ridge Regression\n",
        "- Regularization: L2\n",
        "- Optimizer: SGD\n",
        "- Early stopping: ✅\n",
        "- Input scaled with StandardScaler\n",
        "- Polynomial features: degree=2\n",
        "\n",
        "## Files\n",
        "\n",
        "- ridge_model.pkl: Trained Ridge regression model\n",
        "- scaler_X.pkl: Feature scaler\n",
        "- scaler_y.pkl: Target scaler\n",
        "- poly_transformer.pkl: Polynomial transformer\n",
        "\n",
        "## How to Use\n",
        "\n",
        "Example code to load and predict:\n",
        "\n",
        "    import pickle\n",
        "    import numpy as np\n",
        "\n",
        "    with open(\"ridge_model.pkl\", \"rb\") as f:\n",
        "        model = pickle.load(f)\n",
        "    with open(\"scaler_X.pkl\", \"rb\") as f:\n",
        "        scaler_X = pickle.load(f)\n",
        "    with open(\"scaler_y.pkl\", \"rb\") as f:\n",
        "        scaler_y = pickle.load(f)\n",
        "    with open(\"poly_transformer.pkl\", \"rb\") as f:\n",
        "        poly = pickle.load(f)\n",
        "\n",
        "    X_new = np.array([[...your features...]])\n",
        "    X_scaled = scaler_X.transform(X_new)\n",
        "    X_poly = poly.transform(X_scaled)\n",
        "    y_scaled_pred = model.predict(X_poly)\n",
        "    y_pred = scaler_y.inverse_transform(y_scaled_pred.reshape(-1, 1))\n",
        "\n",
        "---\n",
        "\n",
        "Made by @Umama906\n",
        "\"\"\"\n",
        "\n",
        "# Write it to README\n",
        "with open(f\"{repo_local_path}/README.md\", \"w\") as f:\n",
        "    f.write(readme_content)\n"
      ],
      "metadata": {
        "id": "8xQxqw4wX0jJ"
      },
      "execution_count": null,
      "outputs": []
    },
    {
      "cell_type": "code",
      "source": [
        "# Optional: Read and display the README content\n",
        "with open(f\"{repo_local_path}/README.md\", \"r\") as f:\n",
        "    print(f.read())\n"
      ],
      "metadata": {
        "collapsed": true,
        "colab": {
          "base_uri": "https://localhost:8080/"
        },
        "id": "6jbdcTZiaQay",
        "outputId": "ae0ce360-c823-4299-be99-560b4ca5f3d7"
      },
      "execution_count": null,
      "outputs": [
        {
          "output_type": "stream",
          "name": "stdout",
          "text": [
            "\n",
            "# Global Housing Price Index Regression Model 🏠📈\n",
            "\n",
            "This model predicts House Price Index using macroeconomic indicators like:\n",
            "\n",
            "- Rent Index\n",
            "- Mortgage Rate (%)\n",
            "- Inflation Rate (%)\n",
            "- GDP Growth (%)\n",
            "- Population Growth (%)\n",
            "- Urbanization Rate (%)\n",
            "- Construction Index\n",
            "\n",
            "## Model Details\n",
            "\n",
            "- Type: Polynomial Ridge Regression\n",
            "- Regularization: L2\n",
            "- Optimizer: SGD\n",
            "- Early stopping: ✅\n",
            "- Input scaled with StandardScaler\n",
            "- Polynomial features: degree=2\n",
            "\n",
            "## Files\n",
            "\n",
            "- ridge_model.pkl: Trained Ridge regression model\n",
            "- scaler_X.pkl: Feature scaler\n",
            "- scaler_y.pkl: Target scaler\n",
            "- poly_transformer.pkl: Polynomial transformer\n",
            "\n",
            "## How to Use\n",
            "\n",
            "Example code to load and predict:\n",
            "\n",
            "    import pickle\n",
            "    import numpy as np\n",
            "\n",
            "    with open(\"ridge_model.pkl\", \"rb\") as f:\n",
            "        model = pickle.load(f)\n",
            "    with open(\"scaler_X.pkl\", \"rb\") as f:\n",
            "        scaler_X = pickle.load(f)\n",
            "    with open(\"scaler_y.pkl\", \"rb\") as f:\n",
            "        scaler_y = pickle.load(f)\n",
            "    with open(\"poly_transformer.pkl\", \"rb\") as f:\n",
            "        poly = pickle.load(f)\n",
            "\n",
            "    X_new = np.array([[...your features...]])\n",
            "    X_scaled = scaler_X.transform(X_new)\n",
            "    X_poly = poly.transform(X_scaled)\n",
            "    y_scaled_pred = model.predict(X_poly)\n",
            "    y_pred = scaler_y.inverse_transform(y_scaled_pred.reshape(-1, 1))\n",
            "\n",
            "---\n",
            "\n",
            "Made by @Umama906\n",
            "\n"
          ]
        }
      ]
    },
    {
      "cell_type": "code",
      "source": [
        "from huggingface_hub import upload_folder\n",
        "\n",
        "# Set repo name and path\n",
        "repo_name = \"Global-Housing-Market-Analysis\"\n",
        "repo_local_path = f\"./{repo_name}\"\n",
        "\n",
        "# Upload all files to your existing Hugging Face repo\n",
        "upload_folder(\n",
        "    folder_path=repo_local_path,  # Folder where your .pkl files and README.md live\n",
        "    repo_id=\"Umama927/Global-Housing-Market-Analysis\",  # Your username + repo\n",
        "    repo_type=\"model\"\n",
        ")\n",
        "\n",
        "print(\" Model successfully uploaded to Hugging Face!\")\n"
      ],
      "metadata": {
        "colab": {
          "base_uri": "https://localhost:8080/"
        },
        "id": "Qi82yJbDaULI",
        "outputId": "970d360c-706e-4c0c-9db3-6d22ed7e9cc3"
      },
      "execution_count": null,
      "outputs": [
        {
          "output_type": "stream",
          "name": "stderr",
          "text": [
            "/usr/local/lib/python3.11/dist-packages/huggingface_hub/hf_api.py:9561: UserWarning:\n",
            "\n",
            "Warnings while validating metadata in README.md:\n",
            "- empty or missing yaml metadata in repo card\n",
            "\n"
          ]
        },
        {
          "output_type": "stream",
          "name": "stdout",
          "text": [
            " Model successfully uploaded to Hugging Face!\n"
          ]
        }
      ]
    },
    {
      "cell_type": "code",
      "source": [
        "import os\n",
        "print(os.getcwd())\n"
      ],
      "metadata": {
        "colab": {
          "base_uri": "https://localhost:8080/"
        },
        "id": "kHuhK-qpALpF",
        "outputId": "9dd9e322-c3ba-4ec2-fc87-5ae65750fb8f"
      },
      "execution_count": null,
      "outputs": [
        {
          "output_type": "stream",
          "name": "stdout",
          "text": [
            "/content\n"
          ]
        }
      ]
    },
    {
      "cell_type": "code",
      "source": [
        "print(os.listdir())\n"
      ],
      "metadata": {
        "colab": {
          "base_uri": "https://localhost:8080/"
        },
        "id": "_qOWg9kzAX-u",
        "outputId": "ec66a857-3d48-43e0-9fc0-270d6cfd93d9"
      },
      "execution_count": null,
      "outputs": [
        {
          "output_type": "stream",
          "name": "stdout",
          "text": [
            "['.config', 'Global-Housing-Market-Analysis', 'my_model', 'ridge_model', 'downloaded_model', 'drive', 'sample_data']\n"
          ]
        }
      ]
    },
    {
      "cell_type": "code",
      "source": [
        "!pwd  # Print working directory\n",
        "!ls -la  # List all files/folders in current directory\n"
      ],
      "metadata": {
        "colab": {
          "base_uri": "https://localhost:8080/"
        },
        "id": "P43wjXkBh_0f",
        "outputId": "8de1971e-3908-4776-f5e7-0578dda16867"
      },
      "execution_count": null,
      "outputs": [
        {
          "output_type": "stream",
          "name": "stdout",
          "text": [
            "/content\n",
            "total 48\n",
            "drwxr-xr-x 1 root root 4096 Apr 12 05:42 .\n",
            "drwxr-xr-x 1 root root 4096 Apr 12 05:00 ..\n",
            "drwxr-xr-x 4 root root 4096 Apr 10 13:37 .config\n",
            "drwx------ 6 root root 4096 Apr 12 05:06 drive\n",
            "drwxr-xr-x 2 root root 4096 Apr 12 05:42 Global-Housing-Market-Analysis\n",
            "drwxr-xr-x 3 root root 4096 Apr 12 05:22 model_files\n",
            "-rw-r--r-- 1 root root  255 Apr 12 05:22 poly_transformer.pkl\n",
            "-rw-r--r-- 1 root root 1053 Apr 12 05:22 ridge_model.pkl\n",
            "drwxr-xr-x 1 root root 4096 Apr 10 13:37 sample_data\n",
            "-rw-r--r-- 1 root root 1515 Apr 12 05:22 scaler_X.pkl\n",
            "-rw-r--r-- 1 root root  474 Apr 12 05:22 scaler_y.pkl\n",
            "drwxr-xr-x 3 root root 4096 Apr 12 05:16 wandb\n"
          ]
        }
      ]
    },
    {
      "cell_type": "code",
      "source": [
        "import os\n",
        "\n",
        "files = ['ridge_model.pkl', 'poly_transformer.pkl', 'scaler_X.pkl', 'scaler_y.pkl']\n",
        "\n",
        "for file in files:\n",
        "    print(f\"\\nChecking file: '{file}'\")\n",
        "    try:\n",
        "        if os.path.isfile(file):\n",
        "            print(\"✅ File exists.\")\n",
        "        else:\n",
        "            print(\"❌ File NOT found.\")\n",
        "    except Exception as e:\n",
        "        print(f\"⚠️ Error checking {file}: {e}\")\n"
      ],
      "metadata": {
        "colab": {
          "base_uri": "https://localhost:8080/"
        },
        "id": "IsoNoHvZA0jy",
        "outputId": "5d02be0e-5ef1-47de-8e71-0c4fb787007d"
      },
      "execution_count": null,
      "outputs": [
        {
          "output_type": "stream",
          "name": "stdout",
          "text": [
            "\n",
            "Checking file: 'ridge_model.pkl'\n",
            "✅ File exists.\n",
            "\n",
            "Checking file: 'poly_transformer.pkl'\n",
            "✅ File exists.\n",
            "\n",
            "Checking file: 'scaler_X.pkl'\n",
            "✅ File exists.\n",
            "\n",
            "Checking file: 'scaler_y.pkl'\n",
            "✅ File exists.\n"
          ]
        }
      ]
    },
    {
      "cell_type": "code",
      "source": [
        "from huggingface_hub import upload_file\n",
        "import os\n",
        "\n",
        "repo_id = \"Umama927/Global-Housing-Market-Analysis\"\n",
        "\n",
        "files_to_upload = [\n",
        "    \"ridge_model.pkl\",\n",
        "    \"scaler_X.pkl\",\n",
        "    \"scaler_y.pkl\",\n",
        "    \"poly_transformer.pkl\"\n",
        "]\n",
        "\n",
        "for file_name in files_to_upload:\n",
        "    full_path = os.path.join(os.getcwd(), file_name)  # Get absolute path from current directory\n",
        "    try:\n",
        "        upload_file(\n",
        "            path_or_fileobj=full_path,\n",
        "            path_in_repo=file_name,  # Name under which it will appear on HF\n",
        "            repo_id=repo_id,\n",
        "            repo_type=\"model\"\n",
        "        )\n",
        "        print(f\"✅ Uploaded: {file_name}\")\n",
        "    except Exception as e:\n",
        "        print(f\"❌ Failed to upload {file_name}: {e}\")\n"
      ],
      "metadata": {
        "colab": {
          "base_uri": "https://localhost:8080/"
        },
        "id": "rdO5oJlABRi2",
        "outputId": "05f25c25-3914-499b-8703-c1ed39132345"
      },
      "execution_count": null,
      "outputs": [
        {
          "output_type": "stream",
          "name": "stderr",
          "text": [
            "No files have been modified since last commit. Skipping to prevent empty commit.\n",
            "WARNING:huggingface_hub.hf_api:No files have been modified since last commit. Skipping to prevent empty commit.\n"
          ]
        },
        {
          "output_type": "stream",
          "name": "stdout",
          "text": [
            "✅ Uploaded: ridge_model.pkl\n"
          ]
        },
        {
          "output_type": "stream",
          "name": "stderr",
          "text": [
            "No files have been modified since last commit. Skipping to prevent empty commit.\n",
            "WARNING:huggingface_hub.hf_api:No files have been modified since last commit. Skipping to prevent empty commit.\n"
          ]
        },
        {
          "output_type": "stream",
          "name": "stdout",
          "text": [
            "✅ Uploaded: scaler_X.pkl\n"
          ]
        },
        {
          "output_type": "stream",
          "name": "stderr",
          "text": [
            "No files have been modified since last commit. Skipping to prevent empty commit.\n",
            "WARNING:huggingface_hub.hf_api:No files have been modified since last commit. Skipping to prevent empty commit.\n"
          ]
        },
        {
          "output_type": "stream",
          "name": "stdout",
          "text": [
            "✅ Uploaded: scaler_y.pkl\n"
          ]
        },
        {
          "output_type": "stream",
          "name": "stderr",
          "text": [
            "No files have been modified since last commit. Skipping to prevent empty commit.\n",
            "WARNING:huggingface_hub.hf_api:No files have been modified since last commit. Skipping to prevent empty commit.\n"
          ]
        },
        {
          "output_type": "stream",
          "name": "stdout",
          "text": [
            "✅ Uploaded: poly_transformer.pkl\n"
          ]
        }
      ]
    },
    {
      "cell_type": "code",
      "source": [
        "import pickle\n",
        "import numpy as np\n",
        "from huggingface_hub import hf_hub_download\n",
        "import os\n",
        "\n",
        "def download_model(repo_id, model_dir=\"./downloaded_model\"):\n",
        "    \"\"\"\n",
        "    Download model files from Hugging Face Hub\n",
        "    \"\"\"\n",
        "    # Create directory if it doesn't exist\n",
        "    os.makedirs(model_dir, exist_ok=True)\n",
        "\n",
        "    # List of files to download\n",
        "    files = [\"ridge_model.pkl\", \"poly_transformer.pkl\", \"scaler_X.pkl\", \"scaler_y.pkl\"]\n",
        "\n",
        "    # Download each file\n",
        "    for file in files:\n",
        "        try:\n",
        "            hf_hub_download(repo_id=repo_id,\n",
        "                           filename=file,\n",
        "                           local_dir=model_dir)\n",
        "            print(f\"Successfully downloaded {file}\")\n",
        "        except Exception as e:\n",
        "            print(f\"Error downloading {file}: {str(e)}\")\n",
        "            return False\n",
        "\n",
        "    return True\n",
        "\n",
        "def load_model(model_dir=\"./downloaded_model\"):\n",
        "    \"\"\"\n",
        "    Load all model components\n",
        "    \"\"\"\n",
        "    try:\n",
        "        # Load ridge model\n",
        "        with open(os.path.join(model_dir, \"ridge_model.pkl\"), 'rb') as f:\n",
        "            model = pickle.load(f)\n",
        "\n",
        "        # Load polynomial transformer\n",
        "        with open(os.path.join(model_dir, \"poly_transformer.pkl\"), 'rb') as f:\n",
        "            poly = pickle.load(f)\n",
        "\n",
        "        # Load feature scaler\n",
        "        with open(os.path.join(model_dir, \"scaler_X.pkl\"), 'rb') as f:\n",
        "            scaler_X = pickle.load(f)\n",
        "\n",
        "        # Load target scaler\n",
        "        with open(os.path.join(model_dir, \"scaler_y.pkl\"), 'rb') as f:\n",
        "            scaler_y = pickle.load(f)\n",
        "\n",
        "        return model, poly, scaler_X, scaler_y\n",
        "\n",
        "    except Exception as e:\n",
        "        print(f\"Error loading model: {str(e)}\")\n",
        "        return None, None, None, None\n",
        "\n",
        "def predict(features, model, poly, scaler_X, scaler_y):\n",
        "    \"\"\"\n",
        "    Make predictions using the loaded model\n",
        "    \"\"\"\n",
        "    # Convert input to numpy array\n",
        "    X = np.array(features).reshape(1, -1)\n",
        "\n",
        "    # Transform with polynomial features\n",
        "    X_poly = poly.transform(X)\n",
        "\n",
        "    # Scale features\n",
        "    X_scaled = scaler_X.transform(X_poly)\n",
        "\n",
        "    # Make prediction\n",
        "    y_pred_scaled = model.predict(X_scaled)\n",
        "\n",
        "    # Inverse transform to get original scale\n",
        "    y_pred = scaler_y.inverse_transform(y_pred_scaled.reshape(-1, 1))\n",
        "\n",
        "    return y_pred[0][0]\n",
        "\n",
        "def main():\n",
        "    print(\"=\" * 60)\n",
        "    print(\"Ridge Regression Model Inference - Interactive Mode\")\n",
        "    print(\"=\" * 60)\n",
        "\n",
        "    # Get repository ID\n",
        "    repo_id = input(\"Enter your Hugging Face repository ID (e.g., 'username/model-name'): \")\n",
        "\n",
        "    # Ask if model should be downloaded\n",
        "    download_choice = input(\"Download model files? (yes/no) [Default: yes]: \").lower()\n",
        "    should_download = download_choice != \"no\"\n",
        "\n",
        "    # Download model if needed\n",
        "    model_dir = \"./downloaded_model\"\n",
        "    if should_download or not os.path.exists(model_dir) or len(os.listdir(model_dir)) < 4:\n",
        "        print(f\"\\nDownloading model from {repo_id}...\")\n",
        "        if not download_model(repo_id, model_dir):\n",
        "            print(\"Failed to download model files. Exiting.\")\n",
        "            return\n",
        "\n",
        "    # Load model components\n",
        "    print(\"\\nLoading model components...\")\n",
        "    model, poly, scaler_X, scaler_y = load_model(model_dir)\n",
        "\n",
        "    if model is None:\n",
        "        print(\"Failed to load model. Exiting.\")\n",
        "        return\n",
        "\n",
        "    # Get number of features from the model\n",
        "    n_features = poly.n_features_in_\n",
        "    print(f\"\\nThis model expects {n_features} input features.\")\n",
        "\n",
        "    while True:\n",
        "        print(\"\\n\" + \"-\" * 60)\n",
        "        features = []\n",
        "\n",
        "        # Collect feature inputs\n",
        "        for i in range(n_features):\n",
        "            while True:\n",
        "                try:\n",
        "                    value = float(input(f\"Enter value for feature {i+1}: \"))\n",
        "                    features.append(value)\n",
        "                    break\n",
        "                except ValueError:\n",
        "                    print(\"Invalid input. Please enter a numeric value.\")\n",
        "\n",
        "        # Make prediction\n",
        "        try:\n",
        "            prediction = predict(features, model, poly, scaler_X, scaler_y)\n",
        "            print(f\"\\nPrediction result: {prediction:.4f}\")\n",
        "        except Exception as e:\n",
        "            print(f\"\\nError making prediction: {str(e)}\")\n",
        "\n",
        "        # Ask if user wants to continue\n",
        "        continue_choice = input(\"\\nMake another prediction? (yes/no): \").lower()\n",
        "        if continue_choice != \"yes\":\n",
        "            break\n",
        "\n",
        "    print(\"\\nThank you for using the inference tool. Goodbye!\")\n",
        "\n",
        "if __name__ == \"__main__\":\n",
        "    main()"
      ],
      "metadata": {
        "colab": {
          "base_uri": "https://localhost:8080/",
          "height": 702,
          "referenced_widgets": [
            "afcb3b0b825e471e9547ffd19688261e",
            "339ea961abb547968653ceaff48058ef",
            "2dd5aad51d9240f9b12a7f44b412c313",
            "c96e9f57a2284681be2f37430b628f85",
            "a664d379d87c417590eaa320aa84120b",
            "3f7484fcc5924664a3e96b13648e4b31",
            "d85d8f0d1b304691ba322942495d4317",
            "d8f621598de0410b95ed685f8cf9c0c0",
            "e08f91f90789451ea7a32c01b929e322",
            "656a82bef0cb42b483658a1275c20a00",
            "ec0530b4f0c54e55a8922536af09587f",
            "60406a0276e24bc5ac64382175a95b64",
            "fa88b57e772c4264a8a5dd30784bc98c",
            "8fa3e48489604acdb841e954f35b0e9d",
            "001ff630e0b04ad7b864b96c5ef99f1d",
            "6c6fdddb2cf44c9b865f71168cbd0f5b",
            "2d4c555e8f7944dea47f14f5382201a1",
            "0a8475d9721445d5a40ea4405723d663",
            "16be2170ad5f46e78e3db61a9a90d9a4",
            "3986398a84c34a66af9e5aee96e08647",
            "e0cf5d0082254bca87edb514995c4ffe",
            "1e30e5441ff54c0c9b52e63efb484d04",
            "51a45e34f7c349c2a4d16badab9dd3fe",
            "3d5203a3f7ed4d5eb68f87e922e6e72d",
            "75a8ecd6077447f28db2d8a4f5de34c9",
            "14e5e56fb9e54619b6cdc37b55a6e005",
            "12a20a0407cb4aefaea90deee132d4ae",
            "e2d5fe47b07d4c6a8cec7d2e7b277904",
            "6bb4e23d12b54f9089e1f0e708ca9afd",
            "1682478dc19348bb9bcbb183809ad471",
            "1d5bc1ac03844f5989a29d6377cca3f0",
            "8c2fbb17388b492fa66e7be0b9ae7711",
            "1186d708b8d84a6fae3b010ba6a59613",
            "2619dd710a154f6c8e3a556b4a6e7ef3",
            "eee599a33b0d463697877f4bec3e85fe",
            "178a49d29e7942f889550907834b5ae7",
            "4b32e27a083f4e8d9f754e57051532e5",
            "10145ef72215421db0f46b24ef3689da",
            "6797313216e24e4b80a6394ee7863b94",
            "0e7977c1020644aba67156faa54a56d8",
            "e79d3a42577248cf914a40b8be70e589",
            "a49c0d2b1bea48d58061cdff482b1f76",
            "cf6314d514894d4b98e0f31649d49b38",
            "c6f7c536c5884362bc509744d0b5601b"
          ]
        },
        "id": "VNm9aZout2ET",
        "outputId": "a4e69b73-bfcc-47b6-c142-b5248c7f0928"
      },
      "execution_count": null,
      "outputs": [
        {
          "output_type": "stream",
          "name": "stdout",
          "text": [
            "============================================================\n",
            "Ridge Regression Model Inference - Interactive Mode\n",
            "============================================================\n",
            "Enter your Hugging Face repository ID (e.g., 'username/model-name'): Umama927/Global-Housing-Market-Analysis\n",
            "Download model files? (yes/no) [Default: yes]: yes\n",
            "\n",
            "Downloading model from Umama927/Global-Housing-Market-Analysis...\n"
          ]
        },
        {
          "output_type": "display_data",
          "data": {
            "text/plain": [
              "ridge_model.pkl:   0%|          | 0.00/1.05k [00:00<?, ?B/s]"
            ],
            "application/vnd.jupyter.widget-view+json": {
              "version_major": 2,
              "version_minor": 0,
              "model_id": "afcb3b0b825e471e9547ffd19688261e"
            }
          },
          "metadata": {}
        },
        {
          "output_type": "stream",
          "name": "stdout",
          "text": [
            "Successfully downloaded ridge_model.pkl\n"
          ]
        },
        {
          "output_type": "display_data",
          "data": {
            "text/plain": [
              "poly_transformer.pkl:   0%|          | 0.00/255 [00:00<?, ?B/s]"
            ],
            "application/vnd.jupyter.widget-view+json": {
              "version_major": 2,
              "version_minor": 0,
              "model_id": "60406a0276e24bc5ac64382175a95b64"
            }
          },
          "metadata": {}
        },
        {
          "output_type": "stream",
          "name": "stdout",
          "text": [
            "Successfully downloaded poly_transformer.pkl\n"
          ]
        },
        {
          "output_type": "display_data",
          "data": {
            "text/plain": [
              "scaler_X.pkl:   0%|          | 0.00/1.51k [00:00<?, ?B/s]"
            ],
            "application/vnd.jupyter.widget-view+json": {
              "version_major": 2,
              "version_minor": 0,
              "model_id": "51a45e34f7c349c2a4d16badab9dd3fe"
            }
          },
          "metadata": {}
        },
        {
          "output_type": "stream",
          "name": "stdout",
          "text": [
            "Successfully downloaded scaler_X.pkl\n"
          ]
        },
        {
          "output_type": "display_data",
          "data": {
            "text/plain": [
              "scaler_y.pkl:   0%|          | 0.00/474 [00:00<?, ?B/s]"
            ],
            "application/vnd.jupyter.widget-view+json": {
              "version_major": 2,
              "version_minor": 0,
              "model_id": "2619dd710a154f6c8e3a556b4a6e7ef3"
            }
          },
          "metadata": {}
        },
        {
          "output_type": "stream",
          "name": "stdout",
          "text": [
            "Successfully downloaded scaler_y.pkl\n",
            "\n",
            "Loading model components...\n",
            "\n",
            "This model expects 8 input features.\n",
            "\n",
            "------------------------------------------------------------\n",
            "Enter value for feature 1: 23\n",
            "Enter value for feature 2: 11\n",
            "Enter value for feature 3: 21\n",
            "Enter value for feature 4: 56\n",
            "Enter value for feature 5: 32\n",
            "Enter value for feature 6: 12\n",
            "Enter value for feature 7: 43\n",
            "Enter value for feature 8: 21\n",
            "\n",
            "Prediction result: 2156.4587\n",
            "\n",
            "Make another prediction? (yes/no): no\n",
            "\n",
            "Thank you for using the inference tool. Goodbye!\n"
          ]
        }
      ]
    },
    {
      "cell_type": "code",
      "source": [
        "!pip install -q wandb\n"
      ],
      "metadata": {
        "id": "pG6FAZUeY_uj"
      },
      "execution_count": null,
      "outputs": []
    },
    {
      "cell_type": "code",
      "source": [
        "import wandb\n",
        "wandb.login()\n"
      ],
      "metadata": {
        "colab": {
          "base_uri": "https://localhost:8080/",
          "height": 234
        },
        "id": "9mPSQVHVZjSi",
        "outputId": "27b066f9-2397-40dd-af0a-d6e868ca1637"
      },
      "execution_count": null,
      "outputs": [
        {
          "output_type": "stream",
          "name": "stderr",
          "text": [
            "\u001b[34m\u001b[1mwandb\u001b[0m: Using wandb-core as the SDK backend.  Please refer to https://wandb.me/wandb-core for more information.\n"
          ]
        },
        {
          "output_type": "display_data",
          "data": {
            "text/plain": [
              "<IPython.core.display.Javascript object>"
            ],
            "application/javascript": [
              "\n",
              "        window._wandbApiKey = new Promise((resolve, reject) => {\n",
              "            function loadScript(url) {\n",
              "            return new Promise(function(resolve, reject) {\n",
              "                let newScript = document.createElement(\"script\");\n",
              "                newScript.onerror = reject;\n",
              "                newScript.onload = resolve;\n",
              "                document.body.appendChild(newScript);\n",
              "                newScript.src = url;\n",
              "            });\n",
              "            }\n",
              "            loadScript(\"https://cdn.jsdelivr.net/npm/postmate/build/postmate.min.js\").then(() => {\n",
              "            const iframe = document.createElement('iframe')\n",
              "            iframe.style.cssText = \"width:0;height:0;border:none\"\n",
              "            document.body.appendChild(iframe)\n",
              "            const handshake = new Postmate({\n",
              "                container: iframe,\n",
              "                url: 'https://wandb.ai/authorize'\n",
              "            });\n",
              "            const timeout = setTimeout(() => reject(\"Couldn't auto authenticate\"), 5000)\n",
              "            handshake.then(function(child) {\n",
              "                child.on('authorize', data => {\n",
              "                    clearTimeout(timeout)\n",
              "                    resolve(data)\n",
              "                });\n",
              "            });\n",
              "            })\n",
              "        });\n",
              "    "
            ]
          },
          "metadata": {}
        },
        {
          "output_type": "stream",
          "name": "stderr",
          "text": [
            "\u001b[34m\u001b[1mwandb\u001b[0m: Logging into wandb.ai. (Learn how to deploy a W&B server locally: https://wandb.me/wandb-server)\n",
            "\u001b[34m\u001b[1mwandb\u001b[0m: You can find your API key in your browser here: https://wandb.ai/authorize\n",
            "wandb: Paste an API key from your profile and hit enter:"
          ]
        },
        {
          "name": "stdout",
          "output_type": "stream",
          "text": [
            " ··········\n"
          ]
        },
        {
          "output_type": "stream",
          "name": "stderr",
          "text": [
            "\u001b[34m\u001b[1mwandb\u001b[0m: \u001b[33mWARNING\u001b[0m If you're specifying your api key in code, ensure this code is not shared publicly.\n",
            "\u001b[34m\u001b[1mwandb\u001b[0m: \u001b[33mWARNING\u001b[0m Consider setting the WANDB_API_KEY environment variable, or running `wandb login` from the command line.\n",
            "\u001b[34m\u001b[1mwandb\u001b[0m: No netrc file found, creating one.\n",
            "\u001b[34m\u001b[1mwandb\u001b[0m: Appending key for api.wandb.ai to your netrc file: /root/.netrc\n",
            "\u001b[34m\u001b[1mwandb\u001b[0m: Currently logged in as: \u001b[33mumamanaseer927\u001b[0m (\u001b[33mumamanaseer927-fast-nuces\u001b[0m) to \u001b[32mhttps://api.wandb.ai\u001b[0m. Use \u001b[1m`wandb login --relogin`\u001b[0m to force relogin\n"
          ]
        },
        {
          "output_type": "execute_result",
          "data": {
            "text/plain": [
              "True"
            ]
          },
          "metadata": {},
          "execution_count": 2
        }
      ]
    },
    {
      "cell_type": "code",
      "source": [
        "import wandb\n",
        "from sklearn.linear_model import Ridge\n",
        "from sklearn.metrics import mean_squared_error, r2_score\n",
        "\n",
        "# 1. Initialize W&B project\n",
        "wandb.init(\n",
        "    project=\"housing-price-prediction\",   # Feel free to change\n",
        "    name=\"ridge-regression-run-1\",\n",
        "    config={\n",
        "        \"model_type\": \"Ridge Regression\",\n",
        "        \"alpha\": 1.0,\n",
        "        \"poly_degree\": 2,\n",
        "        \"scaler\": \"StandardScaler\",\n",
        "        \"features\": X_train.shape[1],\n",
        "    }\n",
        ")\n",
        "\n",
        "# 2. Access config\n",
        "config = wandb.config\n",
        "\n",
        "# 3. Train Ridge model\n",
        "model = Ridge(alpha=config.alpha)\n",
        "model.fit(X_train, y_train)\n",
        "\n",
        "# 4. Predict and evaluate\n",
        "y_train_pred = model.predict(X_train)\n",
        "y_test_pred = model.predict(X_test)\n",
        "\n",
        "train_r2 = r2_score(y_train, y_train_pred)\n",
        "test_r2 = r2_score(y_test, y_test_pred)\n",
        "mse = mean_squared_error(y_test, y_test_pred)\n",
        "\n",
        "# 5. Log metrics to W&B\n",
        "wandb.log({\n",
        "    \"train_r2\": train_r2,\n",
        "    \"test_r2\": test_r2,\n",
        "    \"test_mse\": mse\n",
        "})\n",
        "\n",
        "# 6. Optional: log a plot\n",
        "import matplotlib.pyplot as plt\n",
        "\n",
        "plt.figure(figsize=(6, 4))\n",
        "plt.scatter(y_test, y_test_pred)\n",
        "plt.xlabel(\"True Values\")\n",
        "plt.ylabel(\"Predictions\")\n",
        "plt.title(\"Test Predictions vs Actual\")\n",
        "wandb.log({\"prediction_plot\": plt})\n",
        "\n",
        "# 7. Finish run\n",
        "wandb.finish()\n"
      ],
      "metadata": {
        "colab": {
          "base_uri": "https://localhost:8080/",
          "height": 490
        },
        "id": "q9zfjuMaaqV7",
        "outputId": "1c88c598-b25b-4a4f-cd47-df363ba8e9fc"
      },
      "execution_count": null,
      "outputs": [
        {
          "output_type": "display_data",
          "data": {
            "text/plain": [
              "<IPython.core.display.HTML object>"
            ],
            "text/html": [
              "Tracking run with wandb version 0.19.9"
            ]
          },
          "metadata": {}
        },
        {
          "output_type": "display_data",
          "data": {
            "text/plain": [
              "<IPython.core.display.HTML object>"
            ],
            "text/html": [
              "Run data is saved locally in <code>/content/wandb/run-20250412_051647-ukc16s29</code>"
            ]
          },
          "metadata": {}
        },
        {
          "output_type": "display_data",
          "data": {
            "text/plain": [
              "<IPython.core.display.HTML object>"
            ],
            "text/html": [
              "Syncing run <strong><a href='https://wandb.ai/umamanaseer927-fast-nuces/housing-price-prediction/runs/ukc16s29' target=\"_blank\">ridge-regression-run-1</a></strong> to <a href='https://wandb.ai/umamanaseer927-fast-nuces/housing-price-prediction' target=\"_blank\">Weights & Biases</a> (<a href='https://wandb.me/developer-guide' target=\"_blank\">docs</a>)<br>"
            ]
          },
          "metadata": {}
        },
        {
          "output_type": "display_data",
          "data": {
            "text/plain": [
              "<IPython.core.display.HTML object>"
            ],
            "text/html": [
              " View project at <a href='https://wandb.ai/umamanaseer927-fast-nuces/housing-price-prediction' target=\"_blank\">https://wandb.ai/umamanaseer927-fast-nuces/housing-price-prediction</a>"
            ]
          },
          "metadata": {}
        },
        {
          "output_type": "display_data",
          "data": {
            "text/plain": [
              "<IPython.core.display.HTML object>"
            ],
            "text/html": [
              " View run at <a href='https://wandb.ai/umamanaseer927-fast-nuces/housing-price-prediction/runs/ukc16s29' target=\"_blank\">https://wandb.ai/umamanaseer927-fast-nuces/housing-price-prediction/runs/ukc16s29</a>"
            ]
          },
          "metadata": {}
        },
        {
          "output_type": "display_data",
          "data": {
            "text/plain": [
              "<IPython.core.display.HTML object>"
            ],
            "text/html": []
          },
          "metadata": {}
        },
        {
          "output_type": "display_data",
          "data": {
            "text/plain": [
              "<IPython.core.display.HTML object>"
            ],
            "text/html": [
              "<br>    <style><br>        .wandb-row {<br>            display: flex;<br>            flex-direction: row;<br>            flex-wrap: wrap;<br>            justify-content: flex-start;<br>            width: 100%;<br>        }<br>        .wandb-col {<br>            display: flex;<br>            flex-direction: column;<br>            flex-basis: 100%;<br>            flex: 1;<br>            padding: 10px;<br>        }<br>    </style><br><div class=\"wandb-row\"><div class=\"wandb-col\"><h3>Run history:</h3><br/><table class=\"wandb\"><tr><td>test_mse</td><td>▁</td></tr><tr><td>test_r2</td><td>▁</td></tr><tr><td>train_r2</td><td>▁</td></tr></table><br/></div><div class=\"wandb-col\"><h3>Run summary:</h3><br/><table class=\"wandb\"><tr><td>test_mse</td><td>1.131</td></tr><tr><td>test_r2</td><td>-0.00967</td></tr><tr><td>train_r2</td><td>0.07063</td></tr></table><br/></div></div>"
            ]
          },
          "metadata": {}
        },
        {
          "output_type": "display_data",
          "data": {
            "text/plain": [
              "<IPython.core.display.HTML object>"
            ],
            "text/html": [
              " View run <strong style=\"color:#cdcd00\">ridge-regression-run-1</strong> at: <a href='https://wandb.ai/umamanaseer927-fast-nuces/housing-price-prediction/runs/ukc16s29' target=\"_blank\">https://wandb.ai/umamanaseer927-fast-nuces/housing-price-prediction/runs/ukc16s29</a><br> View project at: <a href='https://wandb.ai/umamanaseer927-fast-nuces/housing-price-prediction' target=\"_blank\">https://wandb.ai/umamanaseer927-fast-nuces/housing-price-prediction</a><br>Synced 5 W&B file(s), 1 media file(s), 0 artifact file(s) and 0 other file(s)"
            ]
          },
          "metadata": {}
        },
        {
          "output_type": "display_data",
          "data": {
            "text/plain": [
              "<IPython.core.display.HTML object>"
            ],
            "text/html": [
              "Find logs at: <code>./wandb/run-20250412_051647-ukc16s29/logs</code>"
            ]
          },
          "metadata": {}
        }
      ]
    },
    {
      "cell_type": "code",
      "source": [
        "!pip install django pyngrok huggingface_hub\n"
      ],
      "metadata": {
        "colab": {
          "base_uri": "https://localhost:8080/"
        },
        "id": "Tcj0BIWpjHZ2",
        "outputId": "c5b4089b-4bce-4381-bf23-7c234aa4d83b"
      },
      "execution_count": null,
      "outputs": [
        {
          "output_type": "stream",
          "name": "stdout",
          "text": [
            "Collecting django\n",
            "  Downloading Django-5.2-py3-none-any.whl.metadata (4.1 kB)\n",
            "Collecting pyngrok\n",
            "  Downloading pyngrok-7.2.3-py3-none-any.whl.metadata (8.7 kB)\n",
            "Requirement already satisfied: huggingface_hub in /usr/local/lib/python3.11/dist-packages (0.30.1)\n",
            "Collecting asgiref>=3.8.1 (from django)\n",
            "  Downloading asgiref-3.8.1-py3-none-any.whl.metadata (9.3 kB)\n",
            "Requirement already satisfied: sqlparse>=0.3.1 in /usr/local/lib/python3.11/dist-packages (from django) (0.5.3)\n",
            "Requirement already satisfied: PyYAML>=5.1 in /usr/local/lib/python3.11/dist-packages (from pyngrok) (6.0.2)\n",
            "Requirement already satisfied: filelock in /usr/local/lib/python3.11/dist-packages (from huggingface_hub) (3.18.0)\n",
            "Requirement already satisfied: fsspec>=2023.5.0 in /usr/local/lib/python3.11/dist-packages (from huggingface_hub) (2025.3.2)\n",
            "Requirement already satisfied: packaging>=20.9 in /usr/local/lib/python3.11/dist-packages (from huggingface_hub) (24.2)\n",
            "Requirement already satisfied: requests in /usr/local/lib/python3.11/dist-packages (from huggingface_hub) (2.32.3)\n",
            "Requirement already satisfied: tqdm>=4.42.1 in /usr/local/lib/python3.11/dist-packages (from huggingface_hub) (4.67.1)\n",
            "Requirement already satisfied: typing-extensions>=3.7.4.3 in /usr/local/lib/python3.11/dist-packages (from huggingface_hub) (4.13.1)\n",
            "Requirement already satisfied: charset-normalizer<4,>=2 in /usr/local/lib/python3.11/dist-packages (from requests->huggingface_hub) (3.4.1)\n",
            "Requirement already satisfied: idna<4,>=2.5 in /usr/local/lib/python3.11/dist-packages (from requests->huggingface_hub) (3.10)\n",
            "Requirement already satisfied: urllib3<3,>=1.21.1 in /usr/local/lib/python3.11/dist-packages (from requests->huggingface_hub) (2.3.0)\n",
            "Requirement already satisfied: certifi>=2017.4.17 in /usr/local/lib/python3.11/dist-packages (from requests->huggingface_hub) (2025.1.31)\n",
            "Downloading Django-5.2-py3-none-any.whl (8.3 MB)\n",
            "\u001b[2K   \u001b[90m━━━━━━━━━━━━━━━━━━━━━━━━━━━━━━━━━━━━━━━━\u001b[0m \u001b[32m8.3/8.3 MB\u001b[0m \u001b[31m104.6 MB/s\u001b[0m eta \u001b[36m0:00:00\u001b[0m\n",
            "\u001b[?25hDownloading pyngrok-7.2.3-py3-none-any.whl (23 kB)\n",
            "Downloading asgiref-3.8.1-py3-none-any.whl (23 kB)\n",
            "Installing collected packages: pyngrok, asgiref, django\n",
            "Successfully installed asgiref-3.8.1 django-5.2 pyngrok-7.2.3\n"
          ]
        }
      ]
    },
    {
      "cell_type": "code",
      "source": [
        "!django-admin startproject housing_project\n",
        "%cd housing_project\n",
        "!python manage.py startapp predictor\n"
      ],
      "metadata": {
        "colab": {
          "base_uri": "https://localhost:8080/"
        },
        "id": "m2NTnapz_rJb",
        "outputId": "f82ba5f8-2309-41c3-b632-299edc17a063"
      },
      "execution_count": null,
      "outputs": [
        {
          "output_type": "stream",
          "name": "stdout",
          "text": [
            "/content/housing_project\n"
          ]
        }
      ]
    },
    {
      "cell_type": "code",
      "source": [
        "from huggingface_hub import hf_hub_download\n",
        "import os\n",
        "\n",
        "os.makedirs(\"predictor/model_files\", exist_ok=True)\n",
        "\n",
        "for file in [\"ridge_model.pkl\", \"scaler_X.pkl\", \"scaler_y.pkl\", \"poly_transformer.pkl\"]:\n",
        "    hf_hub_download(repo_id=\"Umama927/Global-Housing-Market-Analysis\",\n",
        "                    filename=file,\n",
        "                    local_dir=\"predictor/model_files\")\n"
      ],
      "metadata": {
        "colab": {
          "base_uri": "https://localhost:8080/",
          "height": 273,
          "referenced_widgets": [
            "ebb8fdd81e7049fbad80ae898551cece",
            "1e51d559fec443c0bb467122e27fdbe1",
            "f4712bb6150442b69c759878d2b46fdf",
            "2c423fa75a8d46aa8ef16faa495f57ae",
            "762ea6f857504f1d9020393c5b188520",
            "95b46337a8054cf0b63f018024b58c4b",
            "226ace9acc65497ea0faaf31414f3b2b",
            "1d2c975316e642c7ac5f6fa30a126b5b",
            "0ec095ea998849e0acade695c75ae7f5",
            "216c364280e5495b82592c53242fa234",
            "91e10907a6ac41c9b286cc49fe56e396",
            "df31fae6d0004c44871842be27432151",
            "3ced428413474857920f42f169e85645",
            "4a61d10b37d74310812228f10fdb0789",
            "b6fd0a760f9a46c9b735e33bff641f59",
            "30f4a05eae0c4b74b8a06fddd55a595e",
            "987bc03b1cf340fe87f726bc77797cc1",
            "1d8c8890a7c04ab59798eeed6339ab27",
            "3d142ae3369c4d4a94a34d4794c5c7a9",
            "7e1b1cadf83d4a9d911771450e01b216",
            "c3c7f2b5510c479492d8f0be4378348b",
            "30f51e16cd77491a9715d01857642e51",
            "3d97b35e0ce04e5ab163632ece584338",
            "bf2c8355640a48599896eaabe3e2769a",
            "e421a3e5ec1d4d0eb1e5951835c6c114",
            "a20c60539f924bf2927d3285fc98e7dc",
            "8027c40201794ddc9a1c0d3d5bcd3190",
            "98850c42f271447da1ad80b5ca982583",
            "143b9788e5ae4e7f9cb7324a63dcfb07",
            "0f581d974b4747e1960e8efa4d715ae7",
            "1f992a4d4d1e44b8bba86fa2bfd5f5a0",
            "01965b6eefeb4dc1835743cd58730f2c",
            "1f784a7b39ec451b9ce24b4ad48cb9e2",
            "90e4133ed8734961b4b79ef763db6db2",
            "32371714162c4b34b02d9dc7096cddfc",
            "9ef64067c8b248b4aa0e25dcd26cb66f",
            "c940a17b7b994d28ae59a3127c8b212d",
            "5c61103c2d4a4f78bc1fa6cac91122ab",
            "373a55d3983d4e20814181cb855b5a1a",
            "8a08313ea56443809aa80e50bee6d83a",
            "ed3e2e43d7c74e6f9bc7d7559ccded85",
            "36b44bc207fe4025a2527a7cfeb44929",
            "106cd57a9559421e85788d41a805792e",
            "50c09d92e99c4f3da5afde9d03c4cb76"
          ]
        },
        "id": "AZttVarxlpUF",
        "outputId": "2ceb9d9d-6bdd-4718-92cb-432ad2a4d760"
      },
      "execution_count": null,
      "outputs": [
        {
          "output_type": "stream",
          "name": "stderr",
          "text": [
            "/usr/local/lib/python3.11/dist-packages/huggingface_hub/utils/_auth.py:94: UserWarning: \n",
            "The secret `HF_TOKEN` does not exist in your Colab secrets.\n",
            "To authenticate with the Hugging Face Hub, create a token in your settings tab (https://huggingface.co/settings/tokens), set it as secret in your Google Colab and restart your session.\n",
            "You will be able to reuse this secret in all of your notebooks.\n",
            "Please note that authentication is recommended but still optional to access public models or datasets.\n",
            "  warnings.warn(\n"
          ]
        },
        {
          "output_type": "display_data",
          "data": {
            "text/plain": [
              "ridge_model.pkl:   0%|          | 0.00/1.05k [00:00<?, ?B/s]"
            ],
            "application/vnd.jupyter.widget-view+json": {
              "version_major": 2,
              "version_minor": 0,
              "model_id": "ebb8fdd81e7049fbad80ae898551cece"
            }
          },
          "metadata": {}
        },
        {
          "output_type": "display_data",
          "data": {
            "text/plain": [
              "scaler_X.pkl:   0%|          | 0.00/1.51k [00:00<?, ?B/s]"
            ],
            "application/vnd.jupyter.widget-view+json": {
              "version_major": 2,
              "version_minor": 0,
              "model_id": "df31fae6d0004c44871842be27432151"
            }
          },
          "metadata": {}
        },
        {
          "output_type": "display_data",
          "data": {
            "text/plain": [
              "scaler_y.pkl:   0%|          | 0.00/474 [00:00<?, ?B/s]"
            ],
            "application/vnd.jupyter.widget-view+json": {
              "version_major": 2,
              "version_minor": 0,
              "model_id": "3d97b35e0ce04e5ab163632ece584338"
            }
          },
          "metadata": {}
        },
        {
          "output_type": "display_data",
          "data": {
            "text/plain": [
              "poly_transformer.pkl:   0%|          | 0.00/255 [00:00<?, ?B/s]"
            ],
            "application/vnd.jupyter.widget-view+json": {
              "version_major": 2,
              "version_minor": 0,
              "model_id": "90e4133ed8734961b4b79ef763db6db2"
            }
          },
          "metadata": {}
        }
      ]
    },
    {
      "cell_type": "code",
      "source": [
        "INSTALLED_APPS = [\n",
        "\n",
        "    'predictor',\n",
        "]\n"
      ],
      "metadata": {
        "id": "RDEt-HgOmQZZ"
      },
      "execution_count": null,
      "outputs": []
    },
    {
      "cell_type": "code",
      "source": [
        "import importlib\n",
        "import predictor.views\n",
        "importlib.reload(predictor.views)\n",
        "\n",
        "from predictor.views import predict\n"
      ],
      "metadata": {
        "id": "Va_VdWE-C_4A"
      },
      "execution_count": null,
      "outputs": []
    },
    {
      "cell_type": "code",
      "source": [
        "%%writefile /content/housing_project/predictor/views.py\n",
        "from django.shortcuts import render\n",
        "import numpy as np\n",
        "import pickle\n",
        "import os\n",
        "\n",
        "model_dir = \"/content/housing_project/predictor/model_files\"\n",
        "\n",
        "model = pickle.load(open(os.path.join(model_dir, 'ridge_model.pkl'), 'rb'))\n",
        "scaler_X = pickle.load(open(os.path.join(model_dir, 'scaler_X.pkl'), 'rb'))\n",
        "scaler_y = pickle.load(open(os.path.join(model_dir, 'scaler_y.pkl'), 'rb'))\n",
        "poly = pickle.load(open(os.path.join(model_dir, 'poly_transformer.pkl'), 'rb'))\n",
        "\n",
        "def predict(request):\n",
        "    prediction = None\n",
        "    if request.method == 'POST':\n",
        "        try:\n",
        "            features = [float(request.POST[f'feature{i+1}']) for i in range(8)]\n",
        "            X = np.array(features).reshape(1, -1)\n",
        "            X_poly = poly.transform(X)\n",
        "            X_scaled = scaler_X.transform(X_poly)\n",
        "            y_pred = model.predict(X_scaled)\n",
        "            prediction = round(scaler_y.inverse_transform(y_pred.reshape(-1, 1))[0][0], 2)\n",
        "        except Exception as e:\n",
        "            prediction = f\"Error: {e}\"\n",
        "    return render(request, \"index.html\", {\"prediction\": prediction})\n"
      ],
      "metadata": {
        "colab": {
          "base_uri": "https://localhost:8080/"
        },
        "id": "jVJPXcOimUxS",
        "outputId": "f95cbe65-1e3e-424d-e73d-c60f8f37202b"
      },
      "execution_count": null,
      "outputs": [
        {
          "output_type": "stream",
          "name": "stdout",
          "text": [
            "Overwriting /content/housing_project/predictor/views.py\n"
          ]
        }
      ]
    },
    {
      "cell_type": "code",
      "source": [
        "!mkdir -p /content/housing_project/predictor/templates\n"
      ],
      "metadata": {
        "id": "zvzgDjsJNoll"
      },
      "execution_count": 28,
      "outputs": []
    },
    {
      "cell_type": "code",
      "source": [
        "%%writefile /content/housing_project/predictor/templates/index.html\n",
        "<!DOCTYPE html>\n",
        "<html>\n",
        "<head>\n",
        "  <title>Housing Price Index Predictor</title>\n",
        "  <style>\n",
        "    body {\n",
        "      font-family: Arial, sans-serif;\n",
        "      background: #f4f6f8;\n",
        "      padding: 40px;\n",
        "    }\n",
        "    h1 {\n",
        "      font-size: 28px;\n",
        "      margin-bottom: 20px;\n",
        "    }\n",
        "    form {\n",
        "      background: white;\n",
        "      padding: 30px;\n",
        "      border-radius: 10px;\n",
        "      box-shadow: 0 0 10px rgba(0,0,0,0.1);\n",
        "      width: 500px;\n",
        "    }\n",
        "    label {\n",
        "      display: block;\n",
        "      margin-bottom: 5px;\n",
        "      font-weight: bold;\n",
        "    }\n",
        "    input {\n",
        "      width: 100%;\n",
        "      padding: 8px;\n",
        "      margin-bottom: 15px;\n",
        "      border: 1px solid #ccc;\n",
        "      border-radius: 5px;\n",
        "    }\n",
        "    button {\n",
        "      background: #007BFF;\n",
        "      color: white;\n",
        "      border: none;\n",
        "      padding: 10px 20px;\n",
        "      border-radius: 5px;\n",
        "      font-size: 16px;\n",
        "      cursor: pointer;\n",
        "    }\n",
        "    .result {\n",
        "      margin-top: 20px;\n",
        "      font-size: 20px;\n",
        "      color: green;\n",
        "      font-weight: bold;\n",
        "    }\n",
        "  </style>\n",
        "</head>\n",
        "<body>\n",
        "  <h1>🏠 House Price Index Predictor</h1>\n",
        "  <p><strong>Model:</strong> {{ model_name }}</p>\n",
        "  <form method=\"post\">\n",
        "    {% csrf_token %}\n",
        "    <label>GDP Growth Rate</label>\n",
        "    <input type=\"text\" name=\"feature1\" required>\n",
        "\n",
        "    <label>Inflation Rate</label>\n",
        "    <input type=\"text\" name=\"feature2\" required>\n",
        "\n",
        "    <label>Interest Rate</label>\n",
        "    <input type=\"text\" name=\"feature3\" required>\n",
        "\n",
        "    <label>Population Growth</label>\n",
        "    <input type=\"text\" name=\"feature4\" required>\n",
        "\n",
        "    <label>Urbanization Rate</label>\n",
        "    <input type=\"text\" name=\"feature5\" required>\n",
        "\n",
        "    <label>Unemployment Rate</label>\n",
        "    <input type=\"text\" name=\"feature6\" required>\n",
        "\n",
        "    <label>Construction Index</label>\n",
        "    <input type=\"text\" name=\"feature7\" required>\n",
        "\n",
        "    <label>Mortgage Rate</label>\n",
        "    <input type=\"text\" name=\"feature8\" required>\n",
        "\n",
        "    <button type=\"submit\">🔮 Predict</button>\n",
        "  </form>\n",
        "\n",
        "  {% if prediction %}\n",
        "    <div class=\"result\">📊 Predicted House Price Index: <span>{{ prediction }}</span></div>\n",
        "  {% endif %}\n",
        "</body>\n",
        "</html>\n"
      ],
      "metadata": {
        "colab": {
          "base_uri": "https://localhost:8080/"
        },
        "id": "4efFKEDANYxj",
        "outputId": "e8817dde-1368-4e81-8eb4-6eec0315bd16"
      },
      "execution_count": 46,
      "outputs": [
        {
          "output_type": "stream",
          "name": "stdout",
          "text": [
            "Overwriting /content/housing_project/predictor/templates/index.html\n"
          ]
        }
      ]
    },
    {
      "cell_type": "code",
      "source": [
        "from predictor.views import predict\n"
      ],
      "metadata": {
        "id": "DjusoWmcCL76"
      },
      "execution_count": null,
      "outputs": []
    },
    {
      "cell_type": "code",
      "source": [
        "!cat /content/housing_project/predictor/views.py\n"
      ],
      "metadata": {
        "colab": {
          "base_uri": "https://localhost:8080/"
        },
        "id": "3Kpu5DlaB4wZ",
        "outputId": "5edc0384-664f-4fe1-ada1-093711b5f1d3"
      },
      "execution_count": null,
      "outputs": [
        {
          "output_type": "stream",
          "name": "stdout",
          "text": [
            "from django.shortcuts import render\n",
            "import numpy as np\n",
            "import pickle\n",
            "import os\n",
            "\n",
            "model_dir = \"/content/housing_project/predictor/model_files\"\n",
            "\n",
            "model = pickle.load(open(os.path.join(model_dir, 'ridge_model.pkl'), 'rb'))\n",
            "scaler_X = pickle.load(open(os.path.join(model_dir, 'scaler_X.pkl'), 'rb'))\n",
            "scaler_y = pickle.load(open(os.path.join(model_dir, 'scaler_y.pkl'), 'rb'))\n",
            "poly = pickle.load(open(os.path.join(model_dir, 'poly_transformer.pkl'), 'rb'))\n",
            "\n",
            "def predict(request):\n",
            "    prediction = None\n",
            "    if request.method == 'POST':\n",
            "        try:\n",
            "            features = [float(request.POST[f'feature{i+1}']) for i in range(8)]\n",
            "            X = np.array(features).reshape(1, -1)\n",
            "            X_poly = poly.transform(X)\n",
            "            X_scaled = scaler_X.transform(X_poly)\n",
            "            y_pred = model.predict(X_scaled)\n",
            "            prediction = round(scaler_y.inverse_transform(y_pred.reshape(-1, 1))[0][0], 2)\n",
            "        except Exception as e:\n",
            "            prediction = f\"Error: {e}\"\n",
            "    return render(request, \"index.html\", {\"prediction\": prediction})\n"
          ]
        }
      ]
    },
    {
      "cell_type": "code",
      "source": [
        "import importlib\n",
        "import predictor.views\n",
        "importlib.reload(predictor.views)\n",
        "\n",
        "from predictor.views import predict\n"
      ],
      "metadata": {
        "id": "7UPcesL5KeXR"
      },
      "execution_count": 18,
      "outputs": []
    },
    {
      "cell_type": "code",
      "source": [
        "%%writefile /content/housing_project/housing_project/urls.py\n",
        "from django.contrib import admin\n",
        "from django.urls import path\n",
        "from predictor.views import predict\n",
        "\n",
        "urlpatterns = [\n",
        "    path('admin/', admin.site.urls),\n",
        "    path('', predict, name='predict'),\n",
        "]\n"
      ],
      "metadata": {
        "colab": {
          "base_uri": "https://localhost:8080/"
        },
        "id": "nyHRq-NRLz8r",
        "outputId": "7756c029-062d-4a70-ae15-449b6924c151"
      },
      "execution_count": 23,
      "outputs": [
        {
          "output_type": "stream",
          "name": "stdout",
          "text": [
            "Overwriting /content/housing_project/housing_project/urls.py\n"
          ]
        }
      ]
    },
    {
      "cell_type": "code",
      "source": [
        "%cd /content/housing_project\n"
      ],
      "metadata": {
        "colab": {
          "base_uri": "https://localhost:8080/"
        },
        "id": "a4KHR_viMAfd",
        "outputId": "08819ffe-f292-4a7b-9ee1-31e936bbb61d"
      },
      "execution_count": 24,
      "outputs": [
        {
          "output_type": "stream",
          "name": "stdout",
          "text": [
            "/content/housing_project\n"
          ]
        }
      ]
    },
    {
      "cell_type": "code",
      "source": [
        "!python manage.py migrate\n"
      ],
      "metadata": {
        "colab": {
          "base_uri": "https://localhost:8080/"
        },
        "id": "w1Q_6snYMCCJ",
        "outputId": "18f00748-abf4-4b6b-ba56-c758ed54907f"
      },
      "execution_count": 25,
      "outputs": [
        {
          "output_type": "stream",
          "name": "stdout",
          "text": [
            "\u001b[36;1mOperations to perform:\u001b[0m\n",
            "\u001b[1m  Apply all migrations: \u001b[0madmin, auth, contenttypes, sessions\n",
            "\u001b[36;1mRunning migrations:\u001b[0m\n",
            "  Applying contenttypes.0001_initial...\u001b[32;1m OK\u001b[0m\n",
            "  Applying auth.0001_initial...\u001b[32;1m OK\u001b[0m\n",
            "  Applying admin.0001_initial...\u001b[32;1m OK\u001b[0m\n",
            "  Applying admin.0002_logentry_remove_auto_add...\u001b[32;1m OK\u001b[0m\n",
            "  Applying admin.0003_logentry_add_action_flag_choices...\u001b[32;1m OK\u001b[0m\n",
            "  Applying contenttypes.0002_remove_content_type_name...\u001b[32;1m OK\u001b[0m\n",
            "  Applying auth.0002_alter_permission_name_max_length...\u001b[32;1m OK\u001b[0m\n",
            "  Applying auth.0003_alter_user_email_max_length...\u001b[32;1m OK\u001b[0m\n",
            "  Applying auth.0004_alter_user_username_opts...\u001b[32;1m OK\u001b[0m\n",
            "  Applying auth.0005_alter_user_last_login_null...\u001b[32;1m OK\u001b[0m\n",
            "  Applying auth.0006_require_contenttypes_0002...\u001b[32;1m OK\u001b[0m\n",
            "  Applying auth.0007_alter_validators_add_error_messages...\u001b[32;1m OK\u001b[0m\n",
            "  Applying auth.0008_alter_user_username_max_length...\u001b[32;1m OK\u001b[0m\n",
            "  Applying auth.0009_alter_user_last_name_max_length...\u001b[32;1m OK\u001b[0m\n",
            "  Applying auth.0010_alter_group_name_max_length...\u001b[32;1m OK\u001b[0m\n",
            "  Applying auth.0011_update_proxy_permissions...\u001b[32;1m OK\u001b[0m\n",
            "  Applying auth.0012_alter_user_first_name_max_length...\u001b[32;1m OK\u001b[0m\n",
            "  Applying sessions.0001_initial...\u001b[32;1m OK\u001b[0m\n"
          ]
        }
      ]
    },
    {
      "cell_type": "code",
      "source": [
        "from pyngrok import ngrok\n",
        "ngrok.set_auth_token(\"2vfvcKblFpxpxXUIltcCTZIy3Ze_6Q85udwioet2av5G7YDF2\")  # run this only once\n"
      ],
      "metadata": {
        "id": "BFXJL6-xPMH6"
      },
      "execution_count": 30,
      "outputs": []
    },
    {
      "cell_type": "code",
      "source": [
        "%%writefile /content/housing_project/housing_project/settings.py\n",
        "from pathlib import Path\n",
        "\n",
        "BASE_DIR = Path(__file__).resolve().parent.parent\n",
        "\n",
        "SECRET_KEY = \"your-secret-key\"\n",
        "DEBUG = True\n",
        "\n",
        "ALLOWED_HOSTS = [\"*\", \"localhost\", \"127.0.0.1\"]\n",
        "CSRF_TRUSTED_ORIGINS = [\"https://*.ngrok-free.app\"]\n",
        "\n",
        "INSTALLED_APPS = [\n",
        "    \"django.contrib.admin\",\n",
        "    \"django.contrib.auth\",\n",
        "    \"django.contrib.contenttypes\",\n",
        "    \"django.contrib.sessions\",\n",
        "    \"django.contrib.messages\",\n",
        "    \"django.contrib.staticfiles\",\n",
        "    \"predictor\",\n",
        "]\n",
        "\n",
        "MIDDLEWARE = [\n",
        "    \"django.middleware.security.SecurityMiddleware\",\n",
        "    \"django.contrib.sessions.middleware.SessionMiddleware\",\n",
        "    \"django.middleware.common.CommonMiddleware\",\n",
        "    \"django.middleware.csrf.CsrfViewMiddleware\",\n",
        "    \"django.contrib.auth.middleware.AuthenticationMiddleware\",\n",
        "    \"django.contrib.messages.middleware.MessageMiddleware\",\n",
        "    \"django.middleware.clickjacking.XFrameOptionsMiddleware\",\n",
        "]\n",
        "\n",
        "ROOT_URLCONF = \"housing_project.urls\"\n",
        "\n",
        "TEMPLATES = [\n",
        "    {\n",
        "        \"BACKEND\": \"django.template.backends.django.DjangoTemplates\",\n",
        "        \"DIRS\": [],\n",
        "        \"APP_DIRS\": True,\n",
        "        \"OPTIONS\": {\n",
        "            \"context_processors\": [\n",
        "                \"django.template.context_processors.debug\",\n",
        "                \"django.template.context_processors.request\",\n",
        "                \"django.contrib.auth.context_processors.auth\",\n",
        "                \"django.contrib.messages.context_processors.messages\",\n",
        "            ],\n",
        "        },\n",
        "    },\n",
        "]\n",
        "\n",
        "WSGI_APPLICATION = \"housing_project.wsgi.application\"\n",
        "\n",
        "DATABASES = {\n",
        "    \"default\": {\n",
        "        \"ENGINE\": \"django.db.backends.sqlite3\",\n",
        "        \"NAME\": BASE_DIR / \"db.sqlite3\",\n",
        "    }\n",
        "}\n",
        "\n",
        "AUTH_PASSWORD_VALIDATORS = []\n",
        "\n",
        "LANGUAGE_CODE = \"en-us\"\n",
        "TIME_ZONE = \"UTC\"\n",
        "USE_I18N = True\n",
        "USE_TZ = True\n",
        "\n",
        "STATIC_URL = \"static/\"\n",
        "DEFAULT_AUTO_FIELD = \"django.db.models.BigAutoField\"\n"
      ],
      "metadata": {
        "colab": {
          "base_uri": "https://localhost:8080/"
        },
        "id": "UPsk75_ZPwv8",
        "outputId": "9ea1f7f2-ff82-4b3f-8da9-eb091d106c17"
      },
      "execution_count": 50,
      "outputs": [
        {
          "output_type": "stream",
          "name": "stdout",
          "text": [
            "Overwriting /content/housing_project/housing_project/settings.py\n"
          ]
        }
      ]
    },
    {
      "cell_type": "code",
      "source": [
        "%cd /content/housing_project\n",
        "!python manage.py migrate\n"
      ],
      "metadata": {
        "colab": {
          "base_uri": "https://localhost:8080/"
        },
        "id": "vbIXjkCdVOb3",
        "outputId": "8bb5a112-3a56-430d-9635-9c0e891f2308"
      },
      "execution_count": 51,
      "outputs": [
        {
          "output_type": "stream",
          "name": "stdout",
          "text": [
            "/content/housing_project\n",
            "\u001b[36;1mOperations to perform:\u001b[0m\n",
            "\u001b[1m  Apply all migrations: \u001b[0madmin, auth, contenttypes, sessions\n",
            "\u001b[36;1mRunning migrations:\u001b[0m\n",
            "  No migrations to apply.\n"
          ]
        }
      ]
    },
    {
      "cell_type": "code",
      "source": [
        "from pyngrok import ngrok\n",
        "\n",
        "public_url = ngrok.connect(8000)\n",
        "print(\"✅ App live at:\", public_url)\n"
      ],
      "metadata": {
        "colab": {
          "base_uri": "https://localhost:8080/"
        },
        "id": "hb2HWnn_WEZM",
        "outputId": "73c9b334-c64e-4a86-8aaf-4fb4fac38bd3"
      },
      "execution_count": 54,
      "outputs": [
        {
          "output_type": "stream",
          "name": "stdout",
          "text": [
            "✅ App live at: NgrokTunnel: \"https://cd79-34-124-254-60.ngrok-free.app\" -> \"http://localhost:8000\"\n"
          ]
        }
      ]
    },
    {
      "cell_type": "code",
      "source": [
        "!python manage.py runserver 0.0.0.0:8000\n"
      ],
      "metadata": {
        "colab": {
          "base_uri": "https://localhost:8080/"
        },
        "id": "UShMWu3TVVKv",
        "outputId": "96dadd39-817a-4ec7-ee69-9bba87f64078"
      },
      "execution_count": 55,
      "outputs": [
        {
          "output_type": "stream",
          "name": "stdout",
          "text": [
            "Watching for file changes with StatReloader\n",
            "Performing system checks...\n",
            "\n",
            "System check identified no issues (0 silenced).\n",
            "April 13, 2025 - 13:30:47\n",
            "Django version 5.2, using settings 'housing_project.settings'\n",
            "Starting development server at http://0.0.0.0:8000/\n",
            "Quit the server with CONTROL-C.\n",
            "\n",
            "\u001b[33;1mWARNING: This is a development server. Do not use it in a production setting. Use a production WSGI or ASGI server instead.\n",
            "For more information on production servers see: https://docs.djangoproject.com/en/5.2/howto/deployment/\u001b[0m\n",
            "[13/Apr/2025 13:30:57] \u001b[m\"GET / HTTP/1.1\" 200 1951\u001b[0m\n",
            "Not Found: /favicon.ico\n",
            "[13/Apr/2025 13:30:58] \u001b[33m\"GET /favicon.ico HTTP/1.1\" 404 2395\u001b[0m\n",
            "[13/Apr/2025 13:31:17] \u001b[m\"POST / HTTP/1.1\" 200 2039\u001b[0m\n"
          ]
        }
      ]
    }
  ]
}